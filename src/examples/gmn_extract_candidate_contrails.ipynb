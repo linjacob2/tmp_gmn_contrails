{
 "cells": [
  {
   "cell_type": "code",
   "execution_count": 1,
   "metadata": {},
   "outputs": [],
   "source": [
    "import sys\n",
    "sys.path.append(\"..\")\n",
    "\n",
    "from glob import glob\n",
    "from save_flight_frames import save_flight_frames\n",
    "from utils.data_loading_utils import get_flight_files, get_era5_data\n",
    "\n",
    "import datetime\n",
    "import os\n",
    "import time"
   ]
  },
  {
   "cell_type": "code",
   "execution_count": 2,
   "metadata": {},
   "outputs": [],
   "source": [
    "# Settings\n",
    "flight_id_filter = []   # If looking at specific flight(s)\n",
    "\n",
    "dates = [(2023, 8, 5)]\n",
    "hour_range = 10\n",
    "num_frames_after_flight = 100\n",
    "\n",
    "indiv_stations  = ['US001N']\n",
    "all_stations = False"
   ]
  },
  {
   "cell_type": "code",
   "execution_count": 4,
   "metadata": {},
   "outputs": [
    {
     "name": "stdout",
     "output_type": "stream",
     "text": [
      "../data/gmn/US001N\\US001N_20230805_003307_279816_detected\\.config\n"
     ]
    },
    {
     "ename": "NameError",
     "evalue": "name 'exit' is not defined",
     "output_type": "error",
     "traceback": [
      "\u001b[1;31m---------------------------------------------------------------------------\u001b[0m",
      "\u001b[1;31mNameError\u001b[0m                                 Traceback (most recent call last)",
      "Cell \u001b[1;32mIn[4], line 56\u001b[0m\n\u001b[0;32m     53\u001b[0m flight_data_files \u001b[38;5;241m=\u001b[39m get_flight_files(times, flight_data_base_path\u001b[38;5;241m=\u001b[39m\u001b[38;5;124m'\u001b[39m\u001b[38;5;124m../data/flight_data/\u001b[39m\u001b[38;5;124m'\u001b[39m)\n\u001b[0;32m     55\u001b[0m start_time \u001b[38;5;241m=\u001b[39m time\u001b[38;5;241m.\u001b[39mtime()\n\u001b[1;32m---> 56\u001b[0m \u001b[43msave_flight_frames\u001b[49m\u001b[43m(\u001b[49m\u001b[43moutput_dir\u001b[49m\u001b[43m,\u001b[49m\u001b[43m \u001b[49m\u001b[38;5;124;43m'\u001b[39;49m\u001b[38;5;124;43mgmn\u001b[39;49m\u001b[38;5;124;43m'\u001b[39;49m\u001b[43m,\u001b[49m\u001b[43m \u001b[49m\u001b[43mvideo_dir\u001b[49m\u001b[43m,\u001b[49m\u001b[43m \u001b[49m\u001b[43mflight_data_files\u001b[49m\u001b[43m,\u001b[49m\u001b[43m \u001b[49m\u001b[43moutput_meta_file\u001b[49m\u001b[43m,\u001b[49m\u001b[43m \u001b[49m\u001b[43moutput_wypts_file\u001b[49m\u001b[43m,\u001b[49m\u001b[43m \u001b[49m\u001b[43mera5_met\u001b[49m\u001b[38;5;241;43m=\u001b[39;49m\u001b[43mmet\u001b[49m\u001b[43m,\u001b[49m\u001b[43m \u001b[49m\u001b[43mnum_frames_after_flight\u001b[49m\u001b[38;5;241;43m=\u001b[39;49m\u001b[43mnum_frames_after_flight\u001b[49m\u001b[43m,\u001b[49m\n\u001b[0;32m     57\u001b[0m \u001b[43m    \u001b[49m\u001b[43mflight_id_filter\u001b[49m\u001b[38;5;241;43m=\u001b[39;49m\u001b[43mflight_id_filter\u001b[49m\u001b[43m,\u001b[49m\u001b[43m \u001b[49m\u001b[43mcache_flight_data\u001b[49m\u001b[38;5;241;43m=\u001b[39;49m\u001b[38;5;28;43;01mFalse\u001b[39;49;00m\u001b[43m)\u001b[49m\n\u001b[0;32m     59\u001b[0m \u001b[38;5;28mprint\u001b[39m(\u001b[38;5;124mf\u001b[39m\u001b[38;5;124m\"\u001b[39m\u001b[38;5;132;01m{\u001b[39;00mstation\u001b[38;5;132;01m}\u001b[39;00m\u001b[38;5;124m \u001b[39m\u001b[38;5;132;01m{\u001b[39;00myear\u001b[38;5;132;01m}\u001b[39;00m\u001b[38;5;124m-\u001b[39m\u001b[38;5;132;01m{\u001b[39;00mmonth\u001b[38;5;132;01m:\u001b[39;00m\u001b[38;5;124m02d\u001b[39m\u001b[38;5;132;01m}\u001b[39;00m\u001b[38;5;124m-\u001b[39m\u001b[38;5;132;01m{\u001b[39;00mday\u001b[38;5;132;01m:\u001b[39;00m\u001b[38;5;124m02d\u001b[39m\u001b[38;5;132;01m}\u001b[39;00m\u001b[38;5;124m took \u001b[39m\u001b[38;5;132;01m{\u001b[39;00mtime\u001b[38;5;241m.\u001b[39mtime()\u001b[38;5;250m \u001b[39m\u001b[38;5;241m-\u001b[39m\u001b[38;5;250m \u001b[39mstart_time\u001b[38;5;132;01m}\u001b[39;00m\u001b[38;5;124m seconds\u001b[39m\u001b[38;5;124m\"\u001b[39m)\n\u001b[0;32m     60\u001b[0m \u001b[38;5;66;03m# except Exception as e:\u001b[39;00m\n\u001b[0;32m     61\u001b[0m     \u001b[38;5;66;03m# print(f\"Station {station} Error: {e}\")\u001b[39;00m\n",
      "File \u001b[1;32md:\\Clouds\\clean_contrails\\src\\examples\\..\\save_flight_frames.py:28\u001b[0m, in \u001b[0;36msave_flight_frames\u001b[1;34m(output_dir, dataset, video_dir, flight_data_paths, output_meta_file, output_wypts_file, era5_met, flight_id_filter, cache_flight_data, num_frames_after_flight, verbose)\u001b[0m\n\u001b[0;32m     24\u001b[0m \u001b[38;5;28;01mdef\u001b[39;00m \u001b[38;5;21msave_flight_frames\u001b[39m(output_dir, dataset, video_dir, flight_data_paths, output_meta_file, output_wypts_file,\n\u001b[0;32m     25\u001b[0m                        era5_met\u001b[38;5;241m=\u001b[39m\u001b[38;5;28;01mNone\u001b[39;00m, flight_id_filter\u001b[38;5;241m=\u001b[39m[], cache_flight_data\u001b[38;5;241m=\u001b[39m\u001b[38;5;28;01mTrue\u001b[39;00m, num_frames_after_flight\u001b[38;5;241m=\u001b[39m\u001b[38;5;241m100\u001b[39m, verbose\u001b[38;5;241m=\u001b[39m\u001b[38;5;28;01mTrue\u001b[39;00m):\n\u001b[0;32m     26\u001b[0m     \u001b[38;5;28;01massert\u001b[39;00m dataset \u001b[38;5;129;01min\u001b[39;00m [\u001b[38;5;124m'\u001b[39m\u001b[38;5;124mgmn\u001b[39m\u001b[38;5;124m'\u001b[39m]\n\u001b[1;32m---> 28\u001b[0m     platepar_files, center_coordinate \u001b[38;5;241m=\u001b[39m \u001b[43mload_platepars\u001b[49m\u001b[43m(\u001b[49m\u001b[43mvideo_dir\u001b[49m\u001b[43m)\u001b[49m\n\u001b[0;32m     29\u001b[0m     video_file \u001b[38;5;241m=\u001b[39m glob(os\u001b[38;5;241m.\u001b[39mpath\u001b[38;5;241m.\u001b[39mjoin(video_dir, \u001b[38;5;124m'\u001b[39m\u001b[38;5;124m*timelapse*.mp4\u001b[39m\u001b[38;5;124m'\u001b[39m))[\u001b[38;5;241m0\u001b[39m]\n\u001b[0;32m     31\u001b[0m     flight_data \u001b[38;5;241m=\u001b[39m FlightData(flight_data_paths, output_meta_file, output_wypts_file, \u001b[38;5;28;01mNone\u001b[39;00m,\n\u001b[0;32m     32\u001b[0m                              center_coordinate, platepar_files,\n\u001b[0;32m     33\u001b[0m                              era5_met\u001b[38;5;241m=\u001b[39mera5_met, era5_rad\u001b[38;5;241m=\u001b[39m\u001b[38;5;28;01mNone\u001b[39;00m, simulate_contrails\u001b[38;5;241m=\u001b[39m\u001b[38;5;28;01mFalse\u001b[39;00m,\n\u001b[0;32m     34\u001b[0m                              flight_id_filter\u001b[38;5;241m=\u001b[39mflight_id_filter, bound_range\u001b[38;5;241m=\u001b[39m\u001b[38;5;241m1.5\u001b[39m,\n\u001b[0;32m     35\u001b[0m                              cache_flight_data\u001b[38;5;241m=\u001b[39mcache_flight_data, cam_frame_time\u001b[38;5;241m=\u001b[39m\u001b[38;5;241m1\u001b[39m,\n\u001b[0;32m     36\u001b[0m                              calculate_image_heading\u001b[38;5;241m=\u001b[39m\u001b[38;5;28;01mFalse\u001b[39;00m)\n",
      "File \u001b[1;32md:\\Clouds\\clean_contrails\\src\\examples\\..\\utils\\data_loading_utils.py:17\u001b[0m, in \u001b[0;36mload_platepars\u001b[1;34m(folder_path)\u001b[0m\n\u001b[0;32m     14\u001b[0m config \u001b[38;5;241m=\u001b[39m os\u001b[38;5;241m.\u001b[39mpath\u001b[38;5;241m.\u001b[39mjoin(folder_path, \u001b[38;5;124m'\u001b[39m\u001b[38;5;124m.config\u001b[39m\u001b[38;5;124m'\u001b[39m)\n\u001b[0;32m     16\u001b[0m \u001b[38;5;28mprint\u001b[39m(config)\n\u001b[1;32m---> 17\u001b[0m \u001b[43mexit\u001b[49m()\n\u001b[0;32m     19\u001b[0m config \u001b[38;5;241m=\u001b[39m cr\u001b[38;5;241m.\u001b[39mloadConfigFromDirectory(config, folder_path)\n\u001b[0;32m     20\u001b[0m center_coordinate \u001b[38;5;241m=\u001b[39m \u001b[38;5;28;01mNone\u001b[39;00m\n",
      "\u001b[1;31mNameError\u001b[0m: name 'exit' is not defined"
     ]
    }
   ],
   "source": [
    "for (year, month, day) in dates:\n",
    "    stations = []\n",
    "    if all_stations:\n",
    "        station_dirs = glob('../data/gmn/*/')\n",
    "        for station_dir in station_dirs:\n",
    "            station_name = os.path.basename(os.path.normpath(station_dir))\n",
    "            if len(glob(f'{station_dir}/*{year}{month:02d}{day:02d}*')) == 1:\n",
    "                stations.append(station_name)\n",
    "                print(station_name)\n",
    "            else:\n",
    "                print(f\"Skipping {station_name} for {year}-{month:02d}-{day:02d}\")\n",
    "    else:\n",
    "        for station in indiv_stations:\n",
    "            station_dir = f'../data/gmn/{station}'\n",
    "\n",
    "            if len(glob(f'{station_dir}/*{year}{month:02d}{day:02d}*')) == 1:\n",
    "                stations.append(station)\n",
    "            else:\n",
    "                print(f\"Skipping {station} for {year}-{month:02d}-{day:02d} (could not find)\")\n",
    "\n",
    "    for station in stations:\n",
    "        # try:\n",
    "        output_dir = f'../data/gmn_extracted_flight_images/{station}/{year}{month:02d}{day:02d}'\n",
    "        if os.path.exists(os.path.join(output_dir, 'done.txt')):\n",
    "            print(f\"Skipping {station} for {year}-{month:02d}-{day:02d} (already done)\")\n",
    "            continue\n",
    "        \n",
    "        video_dir = glob(f'../data/gmn/{station}/*{year}{month:02d}{day:02d}*/')[0]\n",
    "        start_hour = int(video_dir.split('_')[2][:2])\n",
    "\n",
    "        times = []\n",
    "        for i in range(hour_range):\n",
    "            start_time = datetime.datetime(year, month, day, start_hour, 0, 0)\n",
    "            start_time += datetime.timedelta(hours=i)\n",
    "            times.append((start_time.year, start_time.month, start_time.day, start_time.hour))\n",
    "        \n",
    "        # Get ERA5 data with some offset\n",
    "        hour_offset = 3\n",
    "        start_era5 = datetime.datetime(times[0][0], times[0][1], times[0][2], times[0][3], 0, 0)\n",
    "        start_era5 -= datetime.timedelta(hours=hour_offset)\n",
    "\n",
    "        end_era5 = datetime.datetime(times[-1][0], times[-1][1], times[-1][2], times[-1][3], 0, 0)\n",
    "        end_era5 += datetime.timedelta(hours=hour_offset)\n",
    "\n",
    "        start_year, start_month, start_day, start_hour = (start_era5.year, start_era5.month, start_era5.day, start_era5.hour)\n",
    "        end_year, end_month, end_day, end_hour = (end_era5.year, end_era5.month, end_era5.day, end_era5.hour)\n",
    "        file_path_met = f\"../data/era5/{year}{month:02d}/Met*\"\n",
    "\n",
    "        met = get_era5_data(start_year, start_month, start_day, start_hour, end_year, end_month, end_day, end_hour, file_path_met)\n",
    "\n",
    "        output_meta_file = f'../data/gmn_processed_flight_data/{year}{month:02d}{day:02d}_meta.pq'\n",
    "        output_wypts_file = f'../data/gmn_processed_flight_data/{year}{month:02d}{day:02d}_wypts.pq'\n",
    "        flight_data_files = get_flight_files(times, flight_data_base_path='../data/flight_data/')\n",
    "\n",
    "        start_time = time.time()\n",
    "        save_flight_frames(output_dir, 'gmn', video_dir, flight_data_files, output_meta_file, output_wypts_file, era5_met=met, num_frames_after_flight=num_frames_after_flight,\n",
    "            flight_id_filter=flight_id_filter, cache_flight_data=False)\n",
    "        \n",
    "        print(f\"{station} {year}-{month:02d}-{day:02d} took {time.time() - start_time} seconds\")\n",
    "        # except Exception as e:\n",
    "            # print(f\"Station {station} Error: {e}\")"
   ]
  }
 ],
 "metadata": {
  "kernelspec": {
   "display_name": "tmp_contrails",
   "language": "python",
   "name": "python3"
  },
  "language_info": {
   "codemirror_mode": {
    "name": "ipython",
    "version": 3
   },
   "file_extension": ".py",
   "mimetype": "text/x-python",
   "name": "python",
   "nbconvert_exporter": "python",
   "pygments_lexer": "ipython3",
   "version": "3.10.14"
  }
 },
 "nbformat": 4,
 "nbformat_minor": 2
}
