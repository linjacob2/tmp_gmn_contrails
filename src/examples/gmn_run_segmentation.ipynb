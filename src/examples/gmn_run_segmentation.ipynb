{
 "cells": [
  {
   "cell_type": "markdown",
   "metadata": {},
   "source": [
    "Note: This notebook assumes that \"gmn_extract_candidate_contrails.ipynb\" has been run.\n",
    "\n",
    "In this example, SAM2 is used to segment potential contrails in the images of extracted candidate flights."
   ]
  },
  {
   "cell_type": "code",
   "execution_count": 1,
   "metadata": {},
   "outputs": [],
   "source": [
    "import sys\n",
    "sys.path.append(\"..\")\n",
    "\n",
    "from sam2_utils import segment_contrails\n",
    "from glob import glob\n",
    "import time\n",
    "import os\n",
    "import torch"
   ]
  },
  {
   "cell_type": "code",
   "execution_count": 2,
   "metadata": {},
   "outputs": [
    {
     "name": "stderr",
     "output_type": "stream",
     "text": [
      "frame loading (JPEG): 100%|██████████| 101/101 [00:05<00:00, 17.38it/s]\n",
      "D:\\Clouds\\clean_contrails\\segment-anything-2\\sam2\\modeling\\backbones\\hieradet.py:68: UserWarning: 1Torch was not compiled with flash attention. (Triggered internally at C:\\actions-runner\\_work\\pytorch\\pytorch\\builder\\windows\\pytorch\\aten\\src\\ATen\\native\\transformers\\cuda\\sdp_utils.cpp:555.)\n",
      "  x = F.scaled_dot_product_attention(\n",
      "D:\\Clouds\\clean_contrails\\segment-anything-2\\sam2\\modeling\\sam\\transformer.py:270: UserWarning: Memory efficient kernel not used because: (Triggered internally at C:\\actions-runner\\_work\\pytorch\\pytorch\\builder\\windows\\pytorch\\aten\\src\\ATen\\native\\transformers\\cuda\\sdp_utils.cpp:718.)\n",
      "  out = F.scaled_dot_product_attention(q, k, v, dropout_p=dropout_p)\n",
      "D:\\Clouds\\clean_contrails\\segment-anything-2\\sam2\\modeling\\sam\\transformer.py:270: UserWarning: Memory Efficient attention has been runtime disabled. (Triggered internally at C:\\actions-runner\\_work\\pytorch\\pytorch\\builder\\windows\\pytorch\\aten\\src\\ATen/native/transformers/sdp_utils_cpp.h:495.)\n",
      "  out = F.scaled_dot_product_attention(q, k, v, dropout_p=dropout_p)\n",
      "D:\\Clouds\\clean_contrails\\segment-anything-2\\sam2\\modeling\\sam\\transformer.py:270: UserWarning: Flash attention kernel not used because: (Triggered internally at C:\\actions-runner\\_work\\pytorch\\pytorch\\builder\\windows\\pytorch\\aten\\src\\ATen\\native\\transformers\\cuda\\sdp_utils.cpp:720.)\n",
      "  out = F.scaled_dot_product_attention(q, k, v, dropout_p=dropout_p)\n",
      "D:\\Clouds\\clean_contrails\\segment-anything-2\\sam2\\modeling\\sam\\transformer.py:270: UserWarning: CuDNN attention kernel not used because: (Triggered internally at C:\\actions-runner\\_work\\pytorch\\pytorch\\builder\\windows\\pytorch\\aten\\src\\ATen\\native\\transformers\\cuda\\sdp_utils.cpp:722.)\n",
      "  out = F.scaled_dot_product_attention(q, k, v, dropout_p=dropout_p)\n",
      "D:\\Clouds\\clean_contrails\\segment-anything-2\\sam2\\modeling\\sam\\transformer.py:270: UserWarning: The CuDNN backend needs to be enabled by setting the enviornment variable`TORCH_CUDNN_SDPA_ENABLED=1` (Triggered internally at C:\\actions-runner\\_work\\pytorch\\pytorch\\builder\\windows\\pytorch\\aten\\src\\ATen\\native\\transformers\\cuda\\sdp_utils.cpp:497.)\n",
      "  out = F.scaled_dot_product_attention(q, k, v, dropout_p=dropout_p)\n",
      "d:\\Users\\Jacob\\anaconda3\\envs\\tmp_contrails\\lib\\site-packages\\torch\\nn\\modules\\module.py:1562: UserWarning: Flash Attention kernel failed due to: No available kernel. Aborting execution.\n",
      "Falling back to all available kernels for scaled_dot_product_attention (which may have a slower speed).\n",
      "  return forward_call(*args, **kwargs)\n",
      "D:\\Clouds\\clean_contrails\\segment-anything-2\\sam2\\sam2_video_predictor.py:873: UserWarning: cannot import name '_C' from 'sam2' (D:\\Clouds\\clean_contrails\\segment-anything-2\\sam2\\__init__.py)\n",
      "\n",
      "Skipping the post-processing step due to the error above. You can still use SAM 2 and it's OK to ignore the error above, although some post-processing functionality may be limited (which doesn't affect the results in most cases; see https://github.com/facebookresearch/segment-anything-2/blob/main/INSTALL.md).\n",
      "  pred_masks_gpu = fill_holes_in_mask_scores(\n",
      "propagate in video: 100%|██████████| 101/101 [00:11<00:00,  8.92it/s]\n"
     ]
    },
    {
     "name": "stdout",
     "output_type": "stream",
     "text": [
      "../data/gmn_extracted_flight_images/US001N/20230805/3949E8_AFR062 took 22.643717527389526 seconds\n"
     ]
    },
    {
     "name": "stderr",
     "output_type": "stream",
     "text": [
      "frame loading (JPEG): 100%|██████████| 101/101 [00:05<00:00, 18.09it/s]\n",
      "propagate in video: 100%|██████████| 101/101 [00:11<00:00,  8.82it/s]\n"
     ]
    },
    {
     "name": "stdout",
     "output_type": "stream",
     "text": [
      "../data/gmn_extracted_flight_images/US001N/20230805/39C494_FBU72J took 22.837260246276855 seconds\n"
     ]
    },
    {
     "name": "stderr",
     "output_type": "stream",
     "text": [
      "frame loading (JPEG): 100%|██████████| 101/101 [00:05<00:00, 17.44it/s]\n",
      "propagate in video: 100%|██████████| 101/101 [00:11<00:00,  8.84it/s]\n"
     ]
    },
    {
     "name": "stdout",
     "output_type": "stream",
     "text": [
      "../data/gmn_extracted_flight_images/US001N/20230805/39C494_FBU72K took 23.07858681678772 seconds\n"
     ]
    },
    {
     "name": "stderr",
     "output_type": "stream",
     "text": [
      "frame loading (JPEG): 100%|██████████| 101/101 [00:05<00:00, 17.07it/s]\n",
      "propagate in video: 100%|██████████| 101/101 [00:11<00:00,  8.95it/s]\n"
     ]
    },
    {
     "name": "stdout",
     "output_type": "stream",
     "text": [
      "../data/gmn_extracted_flight_images/US001N/20230805/3C4591_BOX452 took 23.31248378753662 seconds\n"
     ]
    },
    {
     "name": "stderr",
     "output_type": "stream",
     "text": [
      "frame loading (JPEG): 100%|██████████| 101/101 [00:05<00:00, 18.16it/s]\n",
      "propagate in video: 100%|██████████| 101/101 [00:10<00:00,  9.22it/s]\n"
     ]
    },
    {
     "name": "stdout",
     "output_type": "stream",
     "text": [
      "../data/gmn_extracted_flight_images/US001N/20230805/3C4591_BOX453 took 22.508453845977783 seconds\n"
     ]
    },
    {
     "name": "stderr",
     "output_type": "stream",
     "text": [
      "frame loading (JPEG): 100%|██████████| 101/101 [00:06<00:00, 16.71it/s]\n",
      "propagate in video: 100%|██████████| 101/101 [00:11<00:00,  9.02it/s]\n"
     ]
    },
    {
     "name": "stdout",
     "output_type": "stream",
     "text": [
      "../data/gmn_extracted_flight_images/US001N/20230805/3C4592_BOX423 took 23.391557693481445 seconds\n"
     ]
    },
    {
     "name": "stderr",
     "output_type": "stream",
     "text": [
      "frame loading (JPEG): 100%|██████████| 101/101 [00:05<00:00, 18.28it/s]\n",
      "propagate in video: 100%|██████████| 101/101 [00:11<00:00,  8.59it/s]\n"
     ]
    },
    {
     "name": "stdout",
     "output_type": "stream",
     "text": [
      "../data/gmn_extracted_flight_images/US001N/20230805/3C6514_DLH413 took 23.18675661087036 seconds\n"
     ]
    },
    {
     "name": "stderr",
     "output_type": "stream",
     "text": [
      "frame loading (JPEG): 100%|██████████| 101/101 [00:06<00:00, 16.78it/s]\n",
      "propagate in video: 100%|██████████| 101/101 [00:11<00:00,  8.70it/s]\n"
     ]
    },
    {
     "name": "stdout",
     "output_type": "stream",
     "text": [
      "../data/gmn_extracted_flight_images/US001N/20230805/4005C1_BAW183 took 23.83739161491394 seconds\n"
     ]
    },
    {
     "name": "stderr",
     "output_type": "stream",
     "text": [
      "frame loading (JPEG): 100%|██████████| 101/101 [00:05<00:00, 18.11it/s]\n",
      "propagate in video: 100%|██████████| 101/101 [00:11<00:00,  8.71it/s]\n"
     ]
    },
    {
     "name": "stdout",
     "output_type": "stream",
     "text": [
      "../data/gmn_extracted_flight_images/US001N/20230805/4063E6_VIR128K took 23.851269483566284 seconds\n"
     ]
    },
    {
     "name": "stderr",
     "output_type": "stream",
     "text": [
      "frame loading (JPEG): 100%|██████████| 101/101 [00:05<00:00, 17.67it/s]\n",
      "propagate in video: 100%|██████████| 101/101 [00:11<00:00,  8.75it/s]\n"
     ]
    },
    {
     "name": "stdout",
     "output_type": "stream",
     "text": [
      "../data/gmn_extracted_flight_images/US001N/20230805/406A35_BAW19J took 23.155601024627686 seconds\n"
     ]
    },
    {
     "name": "stderr",
     "output_type": "stream",
     "text": [
      "frame loading (JPEG): 100%|██████████| 101/101 [00:05<00:00, 18.90it/s]\n",
      "propagate in video: 100%|██████████| 101/101 [00:11<00:00,  8.58it/s]\n"
     ]
    },
    {
     "name": "stdout",
     "output_type": "stream",
     "text": [
      "../data/gmn_extracted_flight_images/US001N/20230805/4075B4_VIR137Y took 22.760351419448853 seconds\n"
     ]
    },
    {
     "name": "stderr",
     "output_type": "stream",
     "text": [
      "frame loading (JPEG): 100%|██████████| 101/101 [00:05<00:00, 17.14it/s]\n",
      "propagate in video: 100%|██████████| 101/101 [00:11<00:00,  8.83it/s]\n"
     ]
    },
    {
     "name": "stdout",
     "output_type": "stream",
     "text": [
      "../data/gmn_extracted_flight_images/US001N/20230805/47B121_NBT02Z took 23.475272178649902 seconds\n"
     ]
    },
    {
     "name": "stderr",
     "output_type": "stream",
     "text": [
      "frame loading (JPEG): 100%|██████████| 101/101 [00:05<00:00, 16.97it/s]\n",
      "propagate in video: 100%|██████████| 101/101 [00:11<00:00,  8.77it/s]\n"
     ]
    },
    {
     "name": "stdout",
     "output_type": "stream",
     "text": [
      "../data/gmn_extracted_flight_images/US001N/20230805/47B1DC_NBT60B took 23.45885419845581 seconds\n"
     ]
    },
    {
     "name": "stderr",
     "output_type": "stream",
     "text": [
      "frame loading (JPEG): 100%|██████████| 101/101 [00:05<00:00, 17.64it/s]\n",
      "propagate in video: 100%|██████████| 101/101 [00:11<00:00,  8.90it/s]\n"
     ]
    },
    {
     "name": "stdout",
     "output_type": "stream",
     "text": [
      "../data/gmn_extracted_flight_images/US001N/20230805/48AE05_LOT2A took 22.98707604408264 seconds\n"
     ]
    },
    {
     "name": "stderr",
     "output_type": "stream",
     "text": [
      "frame loading (JPEG): 100%|██████████| 101/101 [00:05<00:00, 18.05it/s]\n",
      "propagate in video: 100%|██████████| 101/101 [00:10<00:00,  9.42it/s]\n"
     ]
    },
    {
     "name": "stdout",
     "output_type": "stream",
     "text": [
      "../data/gmn_extracted_flight_images/US001N/20230805/48AE06_LOT2LY took 22.232939958572388 seconds\n"
     ]
    },
    {
     "name": "stderr",
     "output_type": "stream",
     "text": [
      "frame loading (JPEG): 100%|██████████| 101/101 [00:03<00:00, 26.61it/s]\n",
      "propagate in video: 100%|██████████| 101/101 [00:10<00:00,  9.45it/s]\n"
     ]
    },
    {
     "name": "stdout",
     "output_type": "stream",
     "text": [
      "../data/gmn_extracted_flight_images/US001N/20230805/4952A3_TAP204A took 18.332146883010864 seconds\n"
     ]
    },
    {
     "name": "stderr",
     "output_type": "stream",
     "text": [
      "frame loading (JPEG): 100%|██████████| 101/101 [00:05<00:00, 18.50it/s]\n",
      "propagate in video: 100%|██████████| 101/101 [00:10<00:00,  9.20it/s]\n"
     ]
    },
    {
     "name": "stdout",
     "output_type": "stream",
     "text": [
      "../data/gmn_extracted_flight_images/US001N/20230805/4AC8A8_SAS919 took 22.238253116607666 seconds\n"
     ]
    },
    {
     "name": "stderr",
     "output_type": "stream",
     "text": [
      "frame loading (JPEG): 100%|██████████| 101/101 [00:04<00:00, 22.85it/s]\n",
      "propagate in video: 100%|██████████| 101/101 [00:11<00:00,  9.06it/s]\n"
     ]
    },
    {
     "name": "stdout",
     "output_type": "stream",
     "text": [
      "../data/gmn_extracted_flight_images/US001N/20230805/4CC50F_ICE55L took 20.672772645950317 seconds\n"
     ]
    },
    {
     "name": "stderr",
     "output_type": "stream",
     "text": [
      "frame loading (JPEG): 100%|██████████| 101/101 [00:05<00:00, 20.01it/s]\n",
      "propagate in video: 100%|██████████| 101/101 [00:11<00:00,  8.96it/s]\n"
     ]
    },
    {
     "name": "stdout",
     "output_type": "stream",
     "text": [
      "../data/gmn_extracted_flight_images/US001N/20230805/4D211A_VJT915 took 21.73996067047119 seconds\n"
     ]
    },
    {
     "name": "stderr",
     "output_type": "stream",
     "text": [
      "frame loading (JPEG): 100%|██████████| 101/101 [00:05<00:00, 20.01it/s]\n",
      "propagate in video: 100%|██████████| 101/101 [00:11<00:00,  9.03it/s]\n"
     ]
    },
    {
     "name": "stdout",
     "output_type": "stream",
     "text": [
      "../data/gmn_extracted_flight_images/US001N/20230805/71BE20_AAR587 took 21.8607976436615 seconds\n"
     ]
    },
    {
     "name": "stderr",
     "output_type": "stream",
     "text": [
      "frame loading (JPEG): 100%|██████████| 101/101 [00:05<00:00, 18.43it/s]\n",
      "propagate in video: 100%|██████████| 101/101 [00:11<00:00,  9.13it/s]\n"
     ]
    },
    {
     "name": "stdout",
     "output_type": "stream",
     "text": [
      "../data/gmn_extracted_flight_images/US001N/20230805/A11FC1_UAL161 took 21.996670961380005 seconds\n"
     ]
    },
    {
     "name": "stderr",
     "output_type": "stream",
     "text": [
      "frame loading (JPEG): 100%|██████████| 101/101 [00:04<00:00, 20.27it/s]\n",
      "propagate in video: 100%|██████████| 101/101 [00:11<00:00,  8.75it/s]\n"
     ]
    },
    {
     "name": "stdout",
     "output_type": "stream",
     "text": [
      "../data/gmn_extracted_flight_images/US001N/20230805/A130CB_EDV5500 took 21.904999017715454 seconds\n"
     ]
    },
    {
     "name": "stderr",
     "output_type": "stream",
     "text": [
      "frame loading (JPEG): 100%|██████████| 101/101 [00:05<00:00, 18.54it/s]\n",
      "propagate in video: 100%|██████████| 101/101 [00:10<00:00,  9.27it/s]\n"
     ]
    },
    {
     "name": "stdout",
     "output_type": "stream",
     "text": [
      "../data/gmn_extracted_flight_images/US001N/20230805/A2007C_UAL23 took 22.082733869552612 seconds\n"
     ]
    },
    {
     "name": "stderr",
     "output_type": "stream",
     "text": [
      "frame loading (JPEG): 100%|██████████| 101/101 [00:05<00:00, 19.88it/s]\n",
      "propagate in video: 100%|██████████| 101/101 [00:11<00:00,  8.97it/s]\n"
     ]
    },
    {
     "name": "stdout",
     "output_type": "stream",
     "text": [
      "../data/gmn_extracted_flight_images/US001N/20230805/A255C7_N25GM took 22.073747396469116 seconds\n"
     ]
    },
    {
     "name": "stderr",
     "output_type": "stream",
     "text": [
      "frame loading (JPEG): 100%|██████████| 101/101 [00:05<00:00, 18.27it/s]\n",
      "propagate in video: 100%|██████████| 101/101 [00:11<00:00,  8.96it/s]\n"
     ]
    },
    {
     "name": "stdout",
     "output_type": "stream",
     "text": [
      "../data/gmn_extracted_flight_images/US001N/20230805/A2A3B6_UAL82 took 22.406257390975952 seconds\n"
     ]
    },
    {
     "name": "stderr",
     "output_type": "stream",
     "text": [
      "frame loading (JPEG): 100%|██████████| 101/101 [00:04<00:00, 21.17it/s]\n",
      "propagate in video: 100%|██████████| 101/101 [00:10<00:00,  9.19it/s]\n"
     ]
    },
    {
     "name": "stdout",
     "output_type": "stream",
     "text": [
      "../data/gmn_extracted_flight_images/US001N/20230805/A2D9EA_JBU307 took 20.89554762840271 seconds\n"
     ]
    },
    {
     "name": "stderr",
     "output_type": "stream",
     "text": [
      "frame loading (JPEG): 100%|██████████| 101/101 [00:05<00:00, 18.32it/s]\n",
      "propagate in video: 100%|██████████| 101/101 [00:10<00:00,  9.41it/s]\n"
     ]
    },
    {
     "name": "stdout",
     "output_type": "stream",
     "text": [
      "../data/gmn_extracted_flight_images/US001N/20230805/A38527_FFT1659 took 21.981260299682617 seconds\n"
     ]
    },
    {
     "name": "stderr",
     "output_type": "stream",
     "text": [
      "frame loading (JPEG): 100%|██████████| 101/101 [00:05<00:00, 18.64it/s]\n",
      "propagate in video: 100%|██████████| 101/101 [00:11<00:00,  9.13it/s]\n"
     ]
    },
    {
     "name": "stdout",
     "output_type": "stream",
     "text": [
      "../data/gmn_extracted_flight_images/US001N/20230805/A4FC00_DAL4 took 22.082342863082886 seconds\n"
     ]
    },
    {
     "name": "stderr",
     "output_type": "stream",
     "text": [
      "frame loading (JPEG): 100%|██████████| 101/101 [00:05<00:00, 18.79it/s]\n",
      "propagate in video: 100%|██████████| 101/101 [00:10<00:00,  9.19it/s]\n"
     ]
    },
    {
     "name": "stdout",
     "output_type": "stream",
     "text": [
      "../data/gmn_extracted_flight_images/US001N/20230805/A68AA3_N520TM took 22.108612060546875 seconds\n"
     ]
    },
    {
     "name": "stderr",
     "output_type": "stream",
     "text": [
      "frame loading (JPEG): 100%|██████████| 101/101 [00:05<00:00, 17.68it/s]\n",
      "propagate in video: 100%|██████████| 101/101 [00:10<00:00,  9.24it/s]\n"
     ]
    },
    {
     "name": "stdout",
     "output_type": "stream",
     "text": [
      "../data/gmn_extracted_flight_images/US001N/20230805/A7A60E_JIA5355 took 22.378093481063843 seconds\n"
     ]
    },
    {
     "name": "stderr",
     "output_type": "stream",
     "text": [
      "frame loading (JPEG): 100%|██████████| 101/101 [00:05<00:00, 18.59it/s]\n",
      "propagate in video: 100%|██████████| 101/101 [00:11<00:00,  8.94it/s]\n"
     ]
    },
    {
     "name": "stdout",
     "output_type": "stream",
     "text": [
      "../data/gmn_extracted_flight_images/US001N/20230805/A91268_N684DK took 22.37324547767639 seconds\n",
      "Flight ../data/gmn_extracted_flight_images/US001N/20230805/A9AEBE_AAL293 Error: list index out of range\n"
     ]
    },
    {
     "name": "stderr",
     "output_type": "stream",
     "text": [
      "frame loading (JPEG): 100%|██████████| 101/101 [00:05<00:00, 18.91it/s]\n",
      "propagate in video: 100%|██████████| 101/101 [00:10<00:00,  9.41it/s]\n"
     ]
    },
    {
     "name": "stdout",
     "output_type": "stream",
     "text": [
      "../data/gmn_extracted_flight_images/US001N/20230805/A9BD9A_AAL292 took 21.984601974487305 seconds\n"
     ]
    },
    {
     "name": "stderr",
     "output_type": "stream",
     "text": [
      "frame loading (JPEG): 100%|██████████| 101/101 [00:05<00:00, 19.13it/s]\n",
      "propagate in video: 100%|██████████| 101/101 [00:11<00:00,  8.98it/s]\n"
     ]
    },
    {
     "name": "stdout",
     "output_type": "stream",
     "text": [
      "../data/gmn_extracted_flight_images/US001N/20230805/AA86CC_AAL145 took 22.41219186782837 seconds\n"
     ]
    },
    {
     "name": "stderr",
     "output_type": "stream",
     "text": [
      "frame loading (JPEG): 100%|██████████| 101/101 [00:05<00:00, 17.49it/s]\n",
      "propagate in video: 100%|██████████| 101/101 [00:11<00:00,  9.01it/s]\n"
     ]
    },
    {
     "name": "stdout",
     "output_type": "stream",
     "text": [
      "../data/gmn_extracted_flight_images/US001N/20230805/AA9300_UAL164 took 22.992060661315918 seconds\n"
     ]
    },
    {
     "name": "stderr",
     "output_type": "stream",
     "text": [
      "frame loading (JPEG): 100%|██████████| 101/101 [00:03<00:00, 31.21it/s]\n",
      "propagate in video: 100%|██████████| 101/101 [00:09<00:00, 10.33it/s]\n"
     ]
    },
    {
     "name": "stdout",
     "output_type": "stream",
     "text": [
      "../data/gmn_extracted_flight_images/US001N/20230805/AA93C9_UAL978 took 16.45639657974243 seconds\n"
     ]
    },
    {
     "name": "stderr",
     "output_type": "stream",
     "text": [
      "frame loading (JPEG): 100%|██████████| 101/101 [00:05<00:00, 19.10it/s]\n",
      "propagate in video: 100%|██████████| 101/101 [00:10<00:00,  9.55it/s]\n"
     ]
    },
    {
     "name": "stdout",
     "output_type": "stream",
     "text": [
      "../data/gmn_extracted_flight_images/US001N/20230805/AAE960_AAL2986 took 19.827636241912842 seconds\n"
     ]
    },
    {
     "name": "stderr",
     "output_type": "stream",
     "text": [
      "frame loading (JPEG): 100%|██████████| 101/101 [00:05<00:00, 19.16it/s]\n",
      "propagate in video: 100%|██████████| 101/101 [00:09<00:00, 10.42it/s]\n"
     ]
    },
    {
     "name": "stdout",
     "output_type": "stream",
     "text": [
      "../data/gmn_extracted_flight_images/US001N/20230805/AB1C04_AAL668 took 20.675045490264893 seconds\n"
     ]
    },
    {
     "name": "stderr",
     "output_type": "stream",
     "text": [
      "frame loading (JPEG): 100%|██████████| 101/101 [00:03<00:00, 32.87it/s]\n",
      "propagate in video: 100%|██████████| 101/101 [00:09<00:00, 10.26it/s]\n"
     ]
    },
    {
     "name": "stdout",
     "output_type": "stream",
     "text": [
      "../data/gmn_extracted_flight_images/US001N/20230805/AB6737_AAL48 took 16.485262870788574 seconds\n"
     ]
    },
    {
     "name": "stderr",
     "output_type": "stream",
     "text": [
      "frame loading (JPEG): 100%|██████████| 101/101 [00:03<00:00, 27.99it/s]\n",
      "propagate in video: 100%|██████████| 101/101 [00:09<00:00, 10.61it/s]\n"
     ]
    },
    {
     "name": "stdout",
     "output_type": "stream",
     "text": [
      "../data/gmn_extracted_flight_images/US001N/20230805/AC252A_SWA2531 took 16.845645904541016 seconds\n"
     ]
    },
    {
     "name": "stderr",
     "output_type": "stream",
     "text": [
      "frame loading (JPEG): 100%|██████████| 101/101 [00:03<00:00, 28.87it/s]\n",
      "propagate in video: 100%|██████████| 101/101 [00:09<00:00, 10.41it/s]"
     ]
    },
    {
     "name": "stdout",
     "output_type": "stream",
     "text": [
      "../data/gmn_extracted_flight_images/US001N/20230805/AD0F29_SWA813 took 16.988688945770264 seconds\n"
     ]
    },
    {
     "name": "stderr",
     "output_type": "stream",
     "text": [
      "\n"
     ]
    }
   ],
   "source": [
    "indiv_stations  = ['US001N']\n",
    "all_stations = False\n",
    "\n",
    "dates = ['20230805']\n",
    "\n",
    "flight_dirs = []\n",
    "\n",
    "for date in dates:\n",
    "    if all_stations:\n",
    "        station_dirs = glob('../data/gmn_extracted_flight_images/*/')\n",
    "        stations = []\n",
    "        for station_dir in station_dirs:\n",
    "            station_name = os.path.basename(os.path.normpath(station_dir))\n",
    "            if os.path.isdir(os.path.join(station_dir, date)):\n",
    "                stations.append(station_name)\n",
    "            else:\n",
    "                print(f'Could not find {station_name} for {date}, skipping')\n",
    "    else:\n",
    "        stations = indiv_stations\n",
    "\n",
    "    for station in stations:\n",
    "        curr_flight_dirs = [ f.path for f in os.scandir(f'../data/gmn_extracted_flight_images/{station}/{date}/') if f.is_dir() ]\n",
    "\n",
    "        if len(curr_flight_dirs) > 0:\n",
    "            flight_dirs += curr_flight_dirs\n",
    "        else:\n",
    "            print(f'Could not find find flights for {station} on {date}, skipping')\n",
    "\n",
    "for flight_dir in flight_dirs:\n",
    "    with torch.no_grad():\n",
    "        try:\n",
    "            if not os.path.exists(os.path.join(flight_dir, 'sam2_output')):\n",
    "                start_time = time.time()\n",
    "                flight_id = os.path.basename(flight_dir)\n",
    "                segment_contrails(flight_dir, sam2_checkpoint=\"../sam2_checkpoints/sam2_hiera_large.pt\", debug=True)\n",
    "                print(f\"{flight_dir} took {time.time() - start_time} seconds\")\n",
    "            else:\n",
    "                print(f\"{flight_dir} already segmented\")\n",
    "        except Exception as e:\n",
    "            print(f\"Flight {flight_dir} Error: {e}\")\n",
    "\n"
   ]
  }
 ],
 "metadata": {
  "kernelspec": {
   "display_name": "tmp_contrails",
   "language": "python",
   "name": "python3"
  },
  "language_info": {
   "codemirror_mode": {
    "name": "ipython",
    "version": 3
   },
   "file_extension": ".py",
   "mimetype": "text/x-python",
   "name": "python",
   "nbconvert_exporter": "python",
   "pygments_lexer": "ipython3",
   "version": "3.10.14"
  }
 },
 "nbformat": 4,
 "nbformat_minor": 2
}
