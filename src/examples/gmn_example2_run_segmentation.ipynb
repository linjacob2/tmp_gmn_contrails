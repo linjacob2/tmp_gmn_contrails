{
 "cells": [
  {
   "cell_type": "markdown",
   "metadata": {},
   "source": [
    "Note: This notebook assumes that \"gmn_extract_candidate_contrails.ipynb\" has been run.\n",
    "\n",
    "In this example, SAM2 is used to segment potential contrails in the images of extracted candidate flights."
   ]
  },
  {
   "cell_type": "code",
   "execution_count": 1,
   "metadata": {},
   "outputs": [],
   "source": [
    "import sys\n",
    "sys.path.append(\"..\")\n",
    "\n",
    "from segmentation_utils import segment_contrails\n",
    "from glob import glob\n",
    "import time\n",
    "import os\n",
    "import torch\n",
    "\n",
    "from sam2.build_sam import build_sam2_video_predictor"
   ]
  },
  {
   "cell_type": "code",
   "execution_count": 2,
   "metadata": {},
   "outputs": [],
   "source": [
    "indiv_stations  = ['US001N']\n",
    "all_stations = False\n",
    "binary_threshold = 10  # SAM2 outputs logits rather than a binary mask. This can be tuned, 0 is the default binary threshold for SAM2\n",
    "dates = ['20230805']"
   ]
  },
  {
   "cell_type": "code",
   "execution_count": 3,
   "metadata": {},
   "outputs": [],
   "source": [
    "# Find all flights that have been extracted\n",
    "flight_dirs = []\n",
    "\n",
    "for date in dates:\n",
    "    if all_stations:\n",
    "        station_dirs = glob('../data/gmn_extracted_flight_images/*/')\n",
    "        stations = []\n",
    "        for station_dir in station_dirs:\n",
    "            station_name = os.path.basename(os.path.normpath(station_dir))\n",
    "            if os.path.isdir(os.path.join(station_dir, date)):\n",
    "                stations.append(station_name)\n",
    "            else:\n",
    "                print(f'Could not find {station_name} for {date}, skipping')\n",
    "    else:\n",
    "        stations = indiv_stations\n",
    "\n",
    "    for station in stations:\n",
    "        curr_flight_dirs = [ f.path for f in os.scandir(f'../data/gmn_extracted_flight_images/{station}/{date}/') if f.is_dir() ]\n",
    "\n",
    "        if len(curr_flight_dirs) > 0:\n",
    "            if len(curr_flight_dirs) < 10:\n",
    "                print(f'Warning: found fewer than 10 flights for {station} on {date}, it is likely that the camera calibration is faulty due to cloudy weather')\n",
    "            flight_dirs += curr_flight_dirs\n",
    "        else:\n",
    "            print(f'Could not find find flights for {station} on {date}, skipping')"
   ]
  },
  {
   "cell_type": "code",
   "execution_count": null,
   "metadata": {},
   "outputs": [],
   "source": [
    "# Only initialise the SAM2 predictor once rather than in the loop\n",
    "# This solved a memory leak issue and also significantly speeds up the process\n",
    "sam2_checkpoint=\"../sam2_checkpoints/sam2_hiera_large.pt\"\n",
    "sam2_cfg=\"sam2_hiera_l.yaml\"\n",
    "predictor = build_sam2_video_predictor(sam2_cfg, sam2_checkpoint)"
   ]
  },
  {
   "cell_type": "code",
   "execution_count": 4,
   "metadata": {},
   "outputs": [
    {
     "name": "stdout",
     "output_type": "stream",
     "text": [
      "../data/gmn_extracted_flight_images/US001N/20230805/3949E8_AFR062 already segmented\n"
     ]
    },
    {
     "name": "stderr",
     "output_type": "stream",
     "text": [
      "frame loading (JPEG): 100%|██████████| 101/101 [00:03<00:00, 31.96it/s]\n",
      "D:\\Clouds\\clean_contrails\\segment-anything-2\\sam2\\modeling\\backbones\\hieradet.py:68: UserWarning: 1Torch was not compiled with flash attention. (Triggered internally at C:\\actions-runner\\_work\\pytorch\\pytorch\\builder\\windows\\pytorch\\aten\\src\\ATen\\native\\transformers\\cuda\\sdp_utils.cpp:555.)\n",
      "  x = F.scaled_dot_product_attention(\n",
      "D:\\Clouds\\clean_contrails\\segment-anything-2\\sam2\\modeling\\sam\\transformer.py:270: UserWarning: Memory efficient kernel not used because: (Triggered internally at C:\\actions-runner\\_work\\pytorch\\pytorch\\builder\\windows\\pytorch\\aten\\src\\ATen\\native\\transformers\\cuda\\sdp_utils.cpp:718.)\n",
      "  out = F.scaled_dot_product_attention(q, k, v, dropout_p=dropout_p)\n",
      "D:\\Clouds\\clean_contrails\\segment-anything-2\\sam2\\modeling\\sam\\transformer.py:270: UserWarning: Memory Efficient attention has been runtime disabled. (Triggered internally at C:\\actions-runner\\_work\\pytorch\\pytorch\\builder\\windows\\pytorch\\aten\\src\\ATen/native/transformers/sdp_utils_cpp.h:495.)\n",
      "  out = F.scaled_dot_product_attention(q, k, v, dropout_p=dropout_p)\n",
      "D:\\Clouds\\clean_contrails\\segment-anything-2\\sam2\\modeling\\sam\\transformer.py:270: UserWarning: Flash attention kernel not used because: (Triggered internally at C:\\actions-runner\\_work\\pytorch\\pytorch\\builder\\windows\\pytorch\\aten\\src\\ATen\\native\\transformers\\cuda\\sdp_utils.cpp:720.)\n",
      "  out = F.scaled_dot_product_attention(q, k, v, dropout_p=dropout_p)\n",
      "D:\\Clouds\\clean_contrails\\segment-anything-2\\sam2\\modeling\\sam\\transformer.py:270: UserWarning: CuDNN attention kernel not used because: (Triggered internally at C:\\actions-runner\\_work\\pytorch\\pytorch\\builder\\windows\\pytorch\\aten\\src\\ATen\\native\\transformers\\cuda\\sdp_utils.cpp:722.)\n",
      "  out = F.scaled_dot_product_attention(q, k, v, dropout_p=dropout_p)\n",
      "D:\\Clouds\\clean_contrails\\segment-anything-2\\sam2\\modeling\\sam\\transformer.py:270: UserWarning: The CuDNN backend needs to be enabled by setting the enviornment variable`TORCH_CUDNN_SDPA_ENABLED=1` (Triggered internally at C:\\actions-runner\\_work\\pytorch\\pytorch\\builder\\windows\\pytorch\\aten\\src\\ATen\\native\\transformers\\cuda\\sdp_utils.cpp:497.)\n",
      "  out = F.scaled_dot_product_attention(q, k, v, dropout_p=dropout_p)\n",
      "d:\\Users\\Jacob\\anaconda3\\envs\\tmp_contrails\\lib\\site-packages\\torch\\nn\\modules\\module.py:1562: UserWarning: Flash Attention kernel failed due to: No available kernel. Aborting execution.\n",
      "Falling back to all available kernels for scaled_dot_product_attention (which may have a slower speed).\n",
      "  return forward_call(*args, **kwargs)\n",
      "propagate in video: 100%|██████████| 101/101 [00:09<00:00, 10.75it/s]\n"
     ]
    },
    {
     "name": "stdout",
     "output_type": "stream",
     "text": [
      "../data/gmn_extracted_flight_images/US001N/20230805/3949E8_AFR062 took 16.048492193222046 seconds\n",
      "../data/gmn_extracted_flight_images/US001N/20230805/39C494_FBU72J already segmented\n"
     ]
    },
    {
     "name": "stderr",
     "output_type": "stream",
     "text": [
      "frame loading (JPEG): 100%|██████████| 101/101 [00:03<00:00, 28.97it/s]\n",
      "propagate in video: 100%|██████████| 101/101 [00:09<00:00, 10.85it/s]\n"
     ]
    },
    {
     "name": "stdout",
     "output_type": "stream",
     "text": [
      "../data/gmn_extracted_flight_images/US001N/20230805/39C494_FBU72J took 16.34022569656372 seconds\n",
      "../data/gmn_extracted_flight_images/US001N/20230805/39C494_FBU72K already segmented\n"
     ]
    },
    {
     "name": "stderr",
     "output_type": "stream",
     "text": [
      "frame loading (JPEG): 100%|██████████| 101/101 [00:03<00:00, 27.89it/s]\n",
      "propagate in video: 100%|██████████| 101/101 [00:09<00:00, 10.74it/s]\n"
     ]
    },
    {
     "name": "stdout",
     "output_type": "stream",
     "text": [
      "../data/gmn_extracted_flight_images/US001N/20230805/39C494_FBU72K took 16.541747331619263 seconds\n",
      "../data/gmn_extracted_flight_images/US001N/20230805/3C4591_BOX452 already segmented\n"
     ]
    },
    {
     "name": "stderr",
     "output_type": "stream",
     "text": [
      "frame loading (JPEG): 100%|██████████| 101/101 [00:03<00:00, 27.07it/s]\n",
      "propagate in video: 100%|██████████| 101/101 [00:09<00:00, 10.76it/s]\n"
     ]
    },
    {
     "name": "stdout",
     "output_type": "stream",
     "text": [
      "../data/gmn_extracted_flight_images/US001N/20230805/3C4591_BOX452 took 16.543682098388672 seconds\n",
      "../data/gmn_extracted_flight_images/US001N/20230805/3C4591_BOX453 already segmented\n"
     ]
    },
    {
     "name": "stderr",
     "output_type": "stream",
     "text": [
      "frame loading (JPEG): 100%|██████████| 101/101 [00:03<00:00, 31.61it/s]\n",
      "propagate in video: 100%|██████████| 101/101 [00:09<00:00, 10.66it/s]\n"
     ]
    },
    {
     "name": "stdout",
     "output_type": "stream",
     "text": [
      "../data/gmn_extracted_flight_images/US001N/20230805/3C4591_BOX453 took 16.079675912857056 seconds\n",
      "../data/gmn_extracted_flight_images/US001N/20230805/3C4592_BOX423 already segmented\n"
     ]
    },
    {
     "name": "stderr",
     "output_type": "stream",
     "text": [
      "frame loading (JPEG): 100%|██████████| 101/101 [00:03<00:00, 28.93it/s]\n",
      "propagate in video: 100%|██████████| 101/101 [00:09<00:00, 10.62it/s]\n"
     ]
    },
    {
     "name": "stdout",
     "output_type": "stream",
     "text": [
      "../data/gmn_extracted_flight_images/US001N/20230805/3C4592_BOX423 took 16.368115186691284 seconds\n",
      "../data/gmn_extracted_flight_images/US001N/20230805/3C6514_DLH413 already segmented\n"
     ]
    },
    {
     "name": "stderr",
     "output_type": "stream",
     "text": [
      "frame loading (JPEG): 100%|██████████| 101/101 [00:03<00:00, 31.65it/s]\n",
      "propagate in video: 100%|██████████| 101/101 [00:09<00:00, 10.80it/s]\n"
     ]
    },
    {
     "name": "stdout",
     "output_type": "stream",
     "text": [
      "../data/gmn_extracted_flight_images/US001N/20230805/3C6514_DLH413 took 15.891649723052979 seconds\n",
      "../data/gmn_extracted_flight_images/US001N/20230805/4005C1_BAW183 already segmented\n"
     ]
    },
    {
     "name": "stderr",
     "output_type": "stream",
     "text": [
      "frame loading (JPEG): 100%|██████████| 101/101 [00:03<00:00, 29.50it/s]\n",
      "propagate in video: 100%|██████████| 101/101 [00:09<00:00, 10.95it/s]\n"
     ]
    },
    {
     "name": "stdout",
     "output_type": "stream",
     "text": [
      "../data/gmn_extracted_flight_images/US001N/20230805/4005C1_BAW183 took 16.022873878479004 seconds\n",
      "../data/gmn_extracted_flight_images/US001N/20230805/4063E6_VIR128K already segmented\n"
     ]
    },
    {
     "name": "stderr",
     "output_type": "stream",
     "text": [
      "frame loading (JPEG): 100%|██████████| 101/101 [00:03<00:00, 30.66it/s]\n",
      "propagate in video: 100%|██████████| 101/101 [00:09<00:00, 10.85it/s]\n"
     ]
    },
    {
     "name": "stdout",
     "output_type": "stream",
     "text": [
      "../data/gmn_extracted_flight_images/US001N/20230805/4063E6_VIR128K took 16.142451286315918 seconds\n",
      "../data/gmn_extracted_flight_images/US001N/20230805/406A35_BAW19J already segmented\n"
     ]
    },
    {
     "name": "stderr",
     "output_type": "stream",
     "text": [
      "frame loading (JPEG): 100%|██████████| 101/101 [00:03<00:00, 30.53it/s]\n",
      "propagate in video: 100%|██████████| 101/101 [00:09<00:00, 10.83it/s]\n"
     ]
    },
    {
     "name": "stdout",
     "output_type": "stream",
     "text": [
      "../data/gmn_extracted_flight_images/US001N/20230805/406A35_BAW19J took 15.874325275421143 seconds\n",
      "../data/gmn_extracted_flight_images/US001N/20230805/4075B4_VIR137Y already segmented\n"
     ]
    },
    {
     "name": "stderr",
     "output_type": "stream",
     "text": [
      "frame loading (JPEG): 100%|██████████| 101/101 [00:03<00:00, 31.89it/s]\n",
      "propagate in video: 100%|██████████| 101/101 [00:09<00:00, 10.75it/s]\n"
     ]
    },
    {
     "name": "stdout",
     "output_type": "stream",
     "text": [
      "../data/gmn_extracted_flight_images/US001N/20230805/4075B4_VIR137Y took 15.664843320846558 seconds\n",
      "../data/gmn_extracted_flight_images/US001N/20230805/47B121_NBT02Z already segmented\n"
     ]
    },
    {
     "name": "stderr",
     "output_type": "stream",
     "text": [
      "frame loading (JPEG): 100%|██████████| 101/101 [00:03<00:00, 29.74it/s]\n",
      "propagate in video: 100%|██████████| 101/101 [00:09<00:00, 10.76it/s]\n"
     ]
    },
    {
     "name": "stdout",
     "output_type": "stream",
     "text": [
      "../data/gmn_extracted_flight_images/US001N/20230805/47B121_NBT02Z took 16.357129335403442 seconds\n",
      "../data/gmn_extracted_flight_images/US001N/20230805/47B1DC_NBT60B already segmented\n"
     ]
    },
    {
     "name": "stderr",
     "output_type": "stream",
     "text": [
      "frame loading (JPEG): 100%|██████████| 101/101 [00:03<00:00, 29.62it/s]\n",
      "propagate in video: 100%|██████████| 101/101 [00:09<00:00, 10.74it/s]\n"
     ]
    },
    {
     "name": "stdout",
     "output_type": "stream",
     "text": [
      "../data/gmn_extracted_flight_images/US001N/20230805/47B1DC_NBT60B took 16.40565037727356 seconds\n",
      "../data/gmn_extracted_flight_images/US001N/20230805/48AE05_LOT2A already segmented\n"
     ]
    },
    {
     "name": "stderr",
     "output_type": "stream",
     "text": [
      "frame loading (JPEG): 100%|██████████| 101/101 [00:03<00:00, 30.97it/s]\n",
      "propagate in video: 100%|██████████| 101/101 [00:09<00:00, 10.78it/s]\n"
     ]
    },
    {
     "name": "stdout",
     "output_type": "stream",
     "text": [
      "../data/gmn_extracted_flight_images/US001N/20230805/48AE05_LOT2A took 15.958558559417725 seconds\n",
      "../data/gmn_extracted_flight_images/US001N/20230805/48AE06_LOT2LY already segmented\n"
     ]
    },
    {
     "name": "stderr",
     "output_type": "stream",
     "text": [
      "frame loading (JPEG): 100%|██████████| 101/101 [00:03<00:00, 31.23it/s]\n",
      "propagate in video: 100%|██████████| 101/101 [00:09<00:00, 10.76it/s]\n"
     ]
    },
    {
     "name": "stdout",
     "output_type": "stream",
     "text": [
      "../data/gmn_extracted_flight_images/US001N/20230805/48AE06_LOT2LY took 15.848164081573486 seconds\n",
      "../data/gmn_extracted_flight_images/US001N/20230805/4952A3_TAP204A already segmented\n"
     ]
    },
    {
     "name": "stderr",
     "output_type": "stream",
     "text": [
      "frame loading (JPEG): 100%|██████████| 101/101 [00:03<00:00, 30.65it/s]\n",
      "propagate in video: 100%|██████████| 101/101 [00:09<00:00, 10.76it/s]\n"
     ]
    },
    {
     "name": "stdout",
     "output_type": "stream",
     "text": [
      "../data/gmn_extracted_flight_images/US001N/20230805/4952A3_TAP204A took 16.172793865203857 seconds\n",
      "../data/gmn_extracted_flight_images/US001N/20230805/4AC8A8_SAS919 already segmented\n"
     ]
    },
    {
     "name": "stderr",
     "output_type": "stream",
     "text": [
      "frame loading (JPEG): 100%|██████████| 101/101 [00:03<00:00, 28.30it/s]\n",
      "propagate in video: 100%|██████████| 101/101 [00:09<00:00, 10.59it/s]\n"
     ]
    },
    {
     "name": "stdout",
     "output_type": "stream",
     "text": [
      "../data/gmn_extracted_flight_images/US001N/20230805/4AC8A8_SAS919 took 16.756919860839844 seconds\n",
      "../data/gmn_extracted_flight_images/US001N/20230805/4CC50F_ICE55L already segmented\n"
     ]
    },
    {
     "name": "stderr",
     "output_type": "stream",
     "text": [
      "frame loading (JPEG): 100%|██████████| 101/101 [00:02<00:00, 35.65it/s]\n",
      "propagate in video: 100%|██████████| 101/101 [00:09<00:00, 10.64it/s]\n"
     ]
    },
    {
     "name": "stdout",
     "output_type": "stream",
     "text": [
      "../data/gmn_extracted_flight_images/US001N/20230805/4CC50F_ICE55L took 15.349057674407959 seconds\n",
      "../data/gmn_extracted_flight_images/US001N/20230805/4D211A_VJT915 already segmented\n"
     ]
    },
    {
     "name": "stderr",
     "output_type": "stream",
     "text": [
      "frame loading (JPEG): 100%|██████████| 101/101 [00:04<00:00, 21.49it/s]\n",
      "propagate in video: 100%|██████████| 101/101 [00:09<00:00, 10.37it/s]\n"
     ]
    },
    {
     "name": "stdout",
     "output_type": "stream",
     "text": [
      "../data/gmn_extracted_flight_images/US001N/20230805/4D211A_VJT915 took 18.139492988586426 seconds\n",
      "../data/gmn_extracted_flight_images/US001N/20230805/71BE20_AAR587 already segmented\n"
     ]
    },
    {
     "name": "stderr",
     "output_type": "stream",
     "text": [
      "frame loading (JPEG): 100%|██████████| 101/101 [00:03<00:00, 30.84it/s]\n",
      "propagate in video: 100%|██████████| 101/101 [00:09<00:00, 10.91it/s]\n"
     ]
    },
    {
     "name": "stdout",
     "output_type": "stream",
     "text": [
      "../data/gmn_extracted_flight_images/US001N/20230805/71BE20_AAR587 took 15.949071645736694 seconds\n",
      "../data/gmn_extracted_flight_images/US001N/20230805/A11FC1_UAL161 already segmented\n"
     ]
    },
    {
     "name": "stderr",
     "output_type": "stream",
     "text": [
      "frame loading (JPEG): 100%|██████████| 101/101 [00:03<00:00, 31.01it/s]\n",
      "propagate in video: 100%|██████████| 101/101 [00:09<00:00, 10.86it/s]\n"
     ]
    },
    {
     "name": "stdout",
     "output_type": "stream",
     "text": [
      "../data/gmn_extracted_flight_images/US001N/20230805/A11FC1_UAL161 took 15.722158670425415 seconds\n",
      "../data/gmn_extracted_flight_images/US001N/20230805/A130CB_EDV5500 already segmented\n"
     ]
    },
    {
     "name": "stderr",
     "output_type": "stream",
     "text": [
      "frame loading (JPEG): 100%|██████████| 101/101 [00:03<00:00, 32.11it/s]\n",
      "propagate in video: 100%|██████████| 101/101 [00:09<00:00, 10.94it/s]\n"
     ]
    },
    {
     "name": "stdout",
     "output_type": "stream",
     "text": [
      "../data/gmn_extracted_flight_images/US001N/20230805/A130CB_EDV5500 took 15.446489572525024 seconds\n",
      "../data/gmn_extracted_flight_images/US001N/20230805/A2007C_UAL23 already segmented\n"
     ]
    },
    {
     "name": "stderr",
     "output_type": "stream",
     "text": [
      "frame loading (JPEG): 100%|██████████| 101/101 [00:03<00:00, 29.60it/s]\n",
      "propagate in video: 100%|██████████| 101/101 [00:09<00:00, 10.90it/s]\n"
     ]
    },
    {
     "name": "stdout",
     "output_type": "stream",
     "text": [
      "../data/gmn_extracted_flight_images/US001N/20230805/A2007C_UAL23 took 16.275806188583374 seconds\n",
      "../data/gmn_extracted_flight_images/US001N/20230805/A255C7_N25GM already segmented\n"
     ]
    },
    {
     "name": "stderr",
     "output_type": "stream",
     "text": [
      "frame loading (JPEG): 100%|██████████| 101/101 [00:03<00:00, 30.44it/s]\n",
      "propagate in video: 100%|██████████| 101/101 [00:09<00:00, 10.83it/s]\n"
     ]
    },
    {
     "name": "stdout",
     "output_type": "stream",
     "text": [
      "../data/gmn_extracted_flight_images/US001N/20230805/A255C7_N25GM took 15.840244770050049 seconds\n",
      "../data/gmn_extracted_flight_images/US001N/20230805/A2A3B6_UAL82 already segmented\n"
     ]
    },
    {
     "name": "stderr",
     "output_type": "stream",
     "text": [
      "frame loading (JPEG): 100%|██████████| 101/101 [00:03<00:00, 28.09it/s]\n",
      "propagate in video: 100%|██████████| 101/101 [00:09<00:00, 10.81it/s]\n"
     ]
    },
    {
     "name": "stdout",
     "output_type": "stream",
     "text": [
      "../data/gmn_extracted_flight_images/US001N/20230805/A2A3B6_UAL82 took 16.465284824371338 seconds\n",
      "../data/gmn_extracted_flight_images/US001N/20230805/A2D9EA_JBU307 already segmented\n"
     ]
    },
    {
     "name": "stderr",
     "output_type": "stream",
     "text": [
      "frame loading (JPEG): 100%|██████████| 101/101 [00:03<00:00, 30.97it/s]\n",
      "propagate in video: 100%|██████████| 101/101 [00:09<00:00, 10.91it/s]\n"
     ]
    },
    {
     "name": "stdout",
     "output_type": "stream",
     "text": [
      "../data/gmn_extracted_flight_images/US001N/20230805/A2D9EA_JBU307 took 15.806520700454712 seconds\n",
      "../data/gmn_extracted_flight_images/US001N/20230805/A38527_FFT1659 already segmented\n"
     ]
    },
    {
     "name": "stderr",
     "output_type": "stream",
     "text": [
      "frame loading (JPEG): 100%|██████████| 101/101 [00:03<00:00, 26.85it/s]\n",
      "propagate in video: 100%|██████████| 101/101 [00:09<00:00, 10.85it/s]\n"
     ]
    },
    {
     "name": "stdout",
     "output_type": "stream",
     "text": [
      "../data/gmn_extracted_flight_images/US001N/20230805/A38527_FFT1659 took 16.360133171081543 seconds\n",
      "../data/gmn_extracted_flight_images/US001N/20230805/A4FC00_DAL4 already segmented\n"
     ]
    },
    {
     "name": "stderr",
     "output_type": "stream",
     "text": [
      "frame loading (JPEG): 100%|██████████| 101/101 [00:03<00:00, 30.96it/s]\n",
      "propagate in video: 100%|██████████| 101/101 [00:09<00:00, 10.67it/s]\n"
     ]
    },
    {
     "name": "stdout",
     "output_type": "stream",
     "text": [
      "../data/gmn_extracted_flight_images/US001N/20230805/A4FC00_DAL4 took 16.04670286178589 seconds\n",
      "../data/gmn_extracted_flight_images/US001N/20230805/A68AA3_N520TM already segmented\n"
     ]
    },
    {
     "name": "stderr",
     "output_type": "stream",
     "text": [
      "frame loading (JPEG): 100%|██████████| 101/101 [00:03<00:00, 31.14it/s]\n",
      "propagate in video: 100%|██████████| 101/101 [00:09<00:00, 10.91it/s]\n"
     ]
    },
    {
     "name": "stdout",
     "output_type": "stream",
     "text": [
      "../data/gmn_extracted_flight_images/US001N/20230805/A68AA3_N520TM took 15.673595905303955 seconds\n",
      "../data/gmn_extracted_flight_images/US001N/20230805/A7A60E_JIA5355 already segmented\n"
     ]
    },
    {
     "name": "stderr",
     "output_type": "stream",
     "text": [
      "frame loading (JPEG): 100%|██████████| 101/101 [00:03<00:00, 29.54it/s]\n",
      "propagate in video: 100%|██████████| 101/101 [00:09<00:00, 10.92it/s]\n"
     ]
    },
    {
     "name": "stdout",
     "output_type": "stream",
     "text": [
      "../data/gmn_extracted_flight_images/US001N/20230805/A7A60E_JIA5355 took 16.37506604194641 seconds\n",
      "../data/gmn_extracted_flight_images/US001N/20230805/A91268_N684DK already segmented\n"
     ]
    },
    {
     "name": "stderr",
     "output_type": "stream",
     "text": [
      "frame loading (JPEG): 100%|██████████| 101/101 [00:03<00:00, 29.68it/s]\n",
      "propagate in video: 100%|██████████| 101/101 [00:09<00:00, 10.84it/s]\n"
     ]
    },
    {
     "name": "stdout",
     "output_type": "stream",
     "text": [
      "../data/gmn_extracted_flight_images/US001N/20230805/A91268_N684DK took 16.069290161132812 seconds\n",
      "../data/gmn_extracted_flight_images/US001N/20230805/A9AEBE_AAL293 has no saved metadata, skipping\n",
      "../data/gmn_extracted_flight_images/US001N/20230805/A9BD9A_AAL292 already segmented\n"
     ]
    },
    {
     "name": "stderr",
     "output_type": "stream",
     "text": [
      "frame loading (JPEG): 100%|██████████| 101/101 [00:03<00:00, 29.18it/s]\n",
      "propagate in video: 100%|██████████| 101/101 [00:09<00:00, 10.91it/s]\n"
     ]
    },
    {
     "name": "stdout",
     "output_type": "stream",
     "text": [
      "../data/gmn_extracted_flight_images/US001N/20230805/A9BD9A_AAL292 took 16.319643020629883 seconds\n",
      "../data/gmn_extracted_flight_images/US001N/20230805/AA86CC_AAL145 already segmented\n"
     ]
    },
    {
     "name": "stderr",
     "output_type": "stream",
     "text": [
      "frame loading (JPEG): 100%|██████████| 101/101 [00:03<00:00, 29.44it/s]\n",
      "propagate in video: 100%|██████████| 101/101 [00:09<00:00, 10.87it/s]\n"
     ]
    },
    {
     "name": "stdout",
     "output_type": "stream",
     "text": [
      "../data/gmn_extracted_flight_images/US001N/20230805/AA86CC_AAL145 took 16.098042249679565 seconds\n",
      "../data/gmn_extracted_flight_images/US001N/20230805/AA9300_UAL164 already segmented\n"
     ]
    },
    {
     "name": "stderr",
     "output_type": "stream",
     "text": [
      "frame loading (JPEG): 100%|██████████| 101/101 [00:03<00:00, 30.09it/s]\n",
      "propagate in video: 100%|██████████| 101/101 [00:09<00:00, 10.83it/s]\n"
     ]
    },
    {
     "name": "stdout",
     "output_type": "stream",
     "text": [
      "../data/gmn_extracted_flight_images/US001N/20230805/AA9300_UAL164 took 16.144832611083984 seconds\n",
      "../data/gmn_extracted_flight_images/US001N/20230805/AA93C9_UAL978 already segmented\n"
     ]
    },
    {
     "name": "stderr",
     "output_type": "stream",
     "text": [
      "frame loading (JPEG): 100%|██████████| 101/101 [00:03<00:00, 30.58it/s]\n",
      "propagate in video: 100%|██████████| 101/101 [00:09<00:00, 10.75it/s]\n"
     ]
    },
    {
     "name": "stdout",
     "output_type": "stream",
     "text": [
      "../data/gmn_extracted_flight_images/US001N/20230805/AA93C9_UAL978 took 16.225337266921997 seconds\n",
      "../data/gmn_extracted_flight_images/US001N/20230805/AAE960_AAL2986 already segmented\n"
     ]
    },
    {
     "name": "stderr",
     "output_type": "stream",
     "text": [
      "frame loading (JPEG): 100%|██████████| 101/101 [00:03<00:00, 29.99it/s]\n",
      "propagate in video: 100%|██████████| 101/101 [00:09<00:00, 10.77it/s]\n"
     ]
    },
    {
     "name": "stdout",
     "output_type": "stream",
     "text": [
      "../data/gmn_extracted_flight_images/US001N/20230805/AAE960_AAL2986 took 16.233154773712158 seconds\n",
      "../data/gmn_extracted_flight_images/US001N/20230805/AB1C04_AAL668 already segmented\n"
     ]
    },
    {
     "name": "stderr",
     "output_type": "stream",
     "text": [
      "frame loading (JPEG): 100%|██████████| 101/101 [00:03<00:00, 30.17it/s]\n",
      "propagate in video: 100%|██████████| 101/101 [00:09<00:00, 10.85it/s]\n"
     ]
    },
    {
     "name": "stdout",
     "output_type": "stream",
     "text": [
      "../data/gmn_extracted_flight_images/US001N/20230805/AB1C04_AAL668 took 16.00003981590271 seconds\n",
      "../data/gmn_extracted_flight_images/US001N/20230805/AB6737_AAL48 already segmented\n"
     ]
    },
    {
     "name": "stderr",
     "output_type": "stream",
     "text": [
      "frame loading (JPEG): 100%|██████████| 101/101 [00:02<00:00, 35.39it/s]\n",
      "propagate in video: 100%|██████████| 101/101 [00:09<00:00, 10.81it/s]\n"
     ]
    },
    {
     "name": "stdout",
     "output_type": "stream",
     "text": [
      "../data/gmn_extracted_flight_images/US001N/20230805/AB6737_AAL48 took 15.220263957977295 seconds\n",
      "../data/gmn_extracted_flight_images/US001N/20230805/AC252A_SWA2531 already segmented\n"
     ]
    },
    {
     "name": "stderr",
     "output_type": "stream",
     "text": [
      "frame loading (JPEG): 100%|██████████| 101/101 [00:03<00:00, 30.05it/s]\n",
      "propagate in video: 100%|██████████| 101/101 [00:09<00:00, 10.94it/s]\n"
     ]
    },
    {
     "name": "stdout",
     "output_type": "stream",
     "text": [
      "../data/gmn_extracted_flight_images/US001N/20230805/AC252A_SWA2531 took 15.899036169052124 seconds\n",
      "../data/gmn_extracted_flight_images/US001N/20230805/AD0F29_SWA813 already segmented\n"
     ]
    },
    {
     "name": "stderr",
     "output_type": "stream",
     "text": [
      "frame loading (JPEG): 100%|██████████| 101/101 [00:03<00:00, 30.36it/s]\n",
      "propagate in video: 100%|██████████| 101/101 [00:09<00:00, 10.82it/s]\n"
     ]
    },
    {
     "name": "stdout",
     "output_type": "stream",
     "text": [
      "../data/gmn_extracted_flight_images/US001N/20230805/AD0F29_SWA813 took 16.195180416107178 seconds\n"
     ]
    }
   ],
   "source": [
    "# Run the SAM2 segmentation\n",
    "for flight_dir in flight_dirs:\n",
    "    flight_id = os.path.basename(flight_dir)\n",
    "\n",
    "    with torch.no_grad():\n",
    "        try:\n",
    "            output_path = os.path.join(flight_dir, 'sam2_output')\n",
    "            if os.path.exists(output_path) and len(glob(os.path.join(output_path, '*.png'))) >= 100:\n",
    "                print(f\"{flight_dir} already segmented\")\n",
    "                continue\n",
    "            elif glob(os.path.join(flight_dir, 'metadata', '*.json')) == []:\n",
    "                print(f\"{flight_dir} has no saved metadata, skipping\")\n",
    "                continue\n",
    "\n",
    "            start_time = time.time()\n",
    "            flight_id = os.path.basename(flight_dir)\n",
    "            segment_contrails(predictor, flight_dir, debug=True, binary_threshold=binary_threshold)\n",
    "            print(f\"{flight_dir} took {time.time() - start_time} seconds\")\n",
    "        except Exception as e:\n",
    "            print(f\"Flight {flight_dir} Error: {e}\")"
   ]
  }
 ],
 "metadata": {
  "kernelspec": {
   "display_name": "tmp_contrails",
   "language": "python",
   "name": "python3"
  },
  "language_info": {
   "codemirror_mode": {
    "name": "ipython",
    "version": 3
   },
   "file_extension": ".py",
   "mimetype": "text/x-python",
   "name": "python",
   "nbconvert_exporter": "python",
   "pygments_lexer": "ipython3",
   "version": "3.10.14"
  }
 },
 "nbformat": 4,
 "nbformat_minor": 2
}
