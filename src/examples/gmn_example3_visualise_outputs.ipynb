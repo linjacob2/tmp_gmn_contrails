{
 "cells": [
  {
   "cell_type": "markdown",
   "metadata": {},
   "source": [
    "Note: This notebook assumes that \"gmn_extract_candidate_contrails.ipynb\" and \"gmn_run_segmentation.ipynb\" has been run.\n",
    "\n",
    "Here we visualise the outputs of the previously ran scripts."
   ]
  },
  {
   "cell_type": "code",
   "execution_count": 1,
   "metadata": {},
   "outputs": [],
   "source": [
    "import sys\n",
    "sys.path.append(\"..\")\n",
    "\n",
    "import os\n",
    "from glob import glob\n",
    "import json\n",
    "from PIL import Image, ImageDraw\n",
    "import imageio"
   ]
  },
  {
   "cell_type": "code",
   "execution_count": 2,
   "metadata": {},
   "outputs": [],
   "source": [
    "base_dir = '../data/gmn_extracted_flight_images/US001N'\n",
    "circle_radius = 5"
   ]
  },
  {
   "cell_type": "code",
   "execution_count": 3,
   "metadata": {},
   "outputs": [],
   "source": [
    "meta_data_files = glob(os.path.join(base_dir, '*/*/metadata/*.json'))\n",
    "\n",
    "for meta_data_file in meta_data_files:\n",
    "    images = []\n",
    "\n",
    "    flight_dir = os.path.dirname(os.path.dirname(meta_data_file))\n",
    "    output_video_dir = os.path.join(flight_dir, 'debug')\n",
    "    os.makedirs(output_video_dir, exist_ok=True)\n",
    "\n",
    "    with open(meta_data_file, 'r') as f:\n",
    "        data = json.load(f)\n",
    "\n",
    "    # Visualise frames with flight\n",
    "    for frame in data['frames_with_flight']:\n",
    "        image = Image.open(frame['file_path']).convert('RGBA')\n",
    "        draw  = ImageDraw.Draw(image)\n",
    "\n",
    "        for x, y in zip(frame['advected_x_coords'], frame['advected_y_coords']):\n",
    "            draw.ellipse([(x-circle_radius, y-circle_radius),\n",
    "                            (x+circle_radius, y+circle_radius)],\n",
    "                            fill=(0, 255, 0), outline=(0, 255, 0))\n",
    "\n",
    "        draw.ellipse([(frame['x_coord']-circle_radius, frame['y_coord']-circle_radius),\n",
    "                        (frame['x_coord']+circle_radius, frame['y_coord']+circle_radius)],\n",
    "                        fill=(255, 0, 0), outline=(255, 0, 0))\n",
    "        \n",
    "        images.append(image)\n",
    "\n",
    "    # Visualise frames after flight\n",
    "    sam2_output = sorted(glob(os.path.join(flight_dir, 'sam2_output/*.png')))\n",
    "    for idx, frame in enumerate(data['frames_after_flight']):\n",
    "        image = Image.open(frame['file_path']).convert('RGBA')\n",
    "        sam2_mask = Image.open(sam2_output[idx]).convert('RGBA')\n",
    "\n",
    "        combined_image = Image.blend(image, sam2_mask, 0.1)\n",
    "\n",
    "        draw = ImageDraw.Draw(combined_image)\n",
    "        \n",
    "        for x, y in zip(frame['advected_x_coords'], frame['advected_y_coords']):\n",
    "            draw.ellipse([(x-circle_radius, y-circle_radius),\n",
    "                            (x+circle_radius, y+circle_radius)],\n",
    "                            fill=(0, 255, 0), outline=(0, 255, 0))\n",
    "\n",
    "        images.append(combined_image)\n",
    "\n",
    "    # Save as .mp4\n",
    "    output_file = os.path.join(output_video_dir, os.path.basename(meta_data_file).split('.')[0] + '.mp4')\n",
    "    imageio.mimwrite(output_file, images, quality=8, fps=25)"
   ]
  }
 ],
 "metadata": {
  "kernelspec": {
   "display_name": "tmp_contrails",
   "language": "python",
   "name": "python3"
  },
  "language_info": {
   "codemirror_mode": {
    "name": "ipython",
    "version": 3
   },
   "file_extension": ".py",
   "mimetype": "text/x-python",
   "name": "python",
   "nbconvert_exporter": "python",
   "pygments_lexer": "ipython3",
   "version": "3.10.14"
  }
 },
 "nbformat": 4,
 "nbformat_minor": 2
}
