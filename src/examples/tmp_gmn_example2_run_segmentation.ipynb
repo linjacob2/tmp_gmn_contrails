{
 "cells": [
  {
   "cell_type": "markdown",
   "metadata": {},
   "source": [
    "Note: This notebook assumes that \"gmn_example1_extract_candidate_contrails.ipynb\" has been run.\n",
    "\n",
    "In this example, SAM2 is used to segment potential contrails in the images of extracted candidate flights."
   ]
  },
  {
   "cell_type": "code",
   "execution_count": 1,
   "metadata": {},
   "outputs": [],
   "source": [
    "import sys\n",
    "sys.path.append(\"..\")\n",
    "\n",
    "from segmentation_utils import segment_contrails\n",
    "from glob import glob\n",
    "import time\n",
    "import os\n",
    "import torch\n",
    "\n",
    "from sam2.build_sam import build_sam2_video_predictor"
   ]
  },
  {
   "cell_type": "code",
   "execution_count": 2,
   "metadata": {},
   "outputs": [],
   "source": [
    "indiv_stations  = ['US0001']\n",
    "all_stations = False\n",
    "binary_threshold = 0  # SAM2 outputs logits rather than a binary mask. This can be tuned, 0 is the default binary threshold for SAM2\n",
    "dates = [f'202308{str(x).zfill(2)}' for x in range(1, 30) if x != 27]\n",
    "flight_id_filter = ['A03765_AAL300', 'A1463A_AAL2864', 'A0DADB_UPS855', 'A4B41C_AAL2328', 'ABB90D_SWA3676', 'A51B27_UPS853', 'A8C397_FDX1417', 'A28E5B_FDX1678', 'A22BF0_SWA279']"
   ]
  },
  {
   "cell_type": "code",
   "execution_count": 3,
   "metadata": {},
   "outputs": [
    {
     "name": "stdout",
     "output_type": "stream",
     "text": [
      "Could not find find flights for US0001 on 20230801, skipping\n",
      "Could not find find flights for US0001 on 20230802, skipping\n",
      "Warning: found fewer than 10 flights for US0001 on 20230803, it is likely that the camera calibration is faulty due to cloudy weather\n",
      "Could not find find flights for US0001 on 20230804, skipping\n",
      "Could not find find flights for US0001 on 20230805, skipping\n",
      "Could not find find flights for US0001 on 20230806, skipping\n",
      "Could not find find flights for US0001 on 20230807, skipping\n",
      "Could not find find flights for US0001 on 20230808, skipping\n",
      "Could not find find flights for US0001 on 20230809, skipping\n",
      "Could not find find flights for US0001 on 20230810, skipping\n",
      "Could not find find flights for US0001 on 20230811, skipping\n",
      "Could not find find flights for US0001 on 20230812, skipping\n",
      "Could not find find flights for US0001 on 20230813, skipping\n",
      "Could not find find flights for US0001 on 20230814, skipping\n",
      "Warning: found fewer than 10 flights for US0001 on 20230815, it is likely that the camera calibration is faulty due to cloudy weather\n",
      "Warning: found fewer than 10 flights for US0001 on 20230816, it is likely that the camera calibration is faulty due to cloudy weather\n",
      "Could not find find flights for US0001 on 20230817, skipping\n",
      "Could not find find flights for US0001 on 20230818, skipping\n",
      "Could not find find flights for US0001 on 20230819, skipping\n",
      "Warning: found fewer than 10 flights for US0001 on 20230820, it is likely that the camera calibration is faulty due to cloudy weather\n",
      "Could not find find flights for US0001 on 20230821, skipping\n",
      "Warning: found fewer than 10 flights for US0001 on 20230822, it is likely that the camera calibration is faulty due to cloudy weather\n",
      "Warning: found fewer than 10 flights for US0001 on 20230823, it is likely that the camera calibration is faulty due to cloudy weather\n",
      "Could not find find flights for US0001 on 20230824, skipping\n",
      "Could not find find flights for US0001 on 20230825, skipping\n",
      "Could not find find flights for US0001 on 20230826, skipping\n",
      "Could not find find flights for US0001 on 20230828, skipping\n",
      "Could not find find flights for US0001 on 20230829, skipping\n"
     ]
    }
   ],
   "source": [
    "# Find all flights that have been extracted\n",
    "flight_dirs = []\n",
    "\n",
    "for date in dates:\n",
    "    if all_stations:\n",
    "        station_dirs = glob('../data/gmn_extracted_flight_images/*/')\n",
    "        stations = []\n",
    "        for station_dir in station_dirs:\n",
    "            station_name = os.path.basename(os.path.normpath(station_dir))\n",
    "            if os.path.isdir(os.path.join(station_dir, date)):\n",
    "                stations.append(station_name)\n",
    "            else:\n",
    "                print(f'Could not find {station_name} for {date}, skipping')\n",
    "    else:\n",
    "        stations = indiv_stations\n",
    "\n",
    "    for station in stations:\n",
    "        curr_flight_dirs = [ f.path for f in os.scandir(f'../data/gmn_extracted_flight_images/{station}/{date}/') if f.is_dir() ]\n",
    "        curr_flight_dirs = [x for x in curr_flight_dirs if os.path.basename(x) in flight_id_filter]\n",
    "\n",
    "        if len(curr_flight_dirs) > 0:\n",
    "            if len(curr_flight_dirs) < 10:\n",
    "                print(f'Warning: found fewer than 10 flights for {station} on {date}, it is likely that the camera calibration is faulty due to cloudy weather')\n",
    "            flight_dirs += curr_flight_dirs\n",
    "        else:\n",
    "            print(f'Could not find find flights for {station} on {date}, skipping')"
   ]
  },
  {
   "cell_type": "code",
   "execution_count": 4,
   "metadata": {},
   "outputs": [],
   "source": [
    "# Only initialise the SAM2 predictor once rather than in the loop\n",
    "# This solved a memory leak issue and also significantly speeds up the process\n",
    "sam2_checkpoint=\"../sam2_checkpoints/sam2_hiera_large.pt\"\n",
    "sam2_cfg=\"sam2_hiera_l.yaml\"\n",
    "predictor = build_sam2_video_predictor(sam2_cfg, sam2_checkpoint)"
   ]
  },
  {
   "cell_type": "code",
   "execution_count": 6,
   "metadata": {},
   "outputs": [
    {
     "name": "stdout",
     "output_type": "stream",
     "text": [
      "../data/gmn_extracted_flight_images/US0001/20230803/A1463A_AAL2864 already segmented\n"
     ]
    },
    {
     "name": "stderr",
     "output_type": "stream",
     "text": [
      "frame loading (JPEG): 100%|██████████| 101/101 [00:03<00:00, 30.97it/s]\n",
      "D:\\Clouds\\clean_contrails\\segment-anything-2\\sam2\\modeling\\backbones\\hieradet.py:68: UserWarning: 1Torch was not compiled with flash attention. (Triggered internally at C:\\actions-runner\\_work\\pytorch\\pytorch\\builder\\windows\\pytorch\\aten\\src\\ATen\\native\\transformers\\cuda\\sdp_utils.cpp:555.)\n",
      "  x = F.scaled_dot_product_attention(\n",
      "D:\\Clouds\\clean_contrails\\segment-anything-2\\sam2\\modeling\\sam\\transformer.py:270: UserWarning: Memory efficient kernel not used because: (Triggered internally at C:\\actions-runner\\_work\\pytorch\\pytorch\\builder\\windows\\pytorch\\aten\\src\\ATen\\native\\transformers\\cuda\\sdp_utils.cpp:718.)\n",
      "  out = F.scaled_dot_product_attention(q, k, v, dropout_p=dropout_p)\n",
      "D:\\Clouds\\clean_contrails\\segment-anything-2\\sam2\\modeling\\sam\\transformer.py:270: UserWarning: Memory Efficient attention has been runtime disabled. (Triggered internally at C:\\actions-runner\\_work\\pytorch\\pytorch\\builder\\windows\\pytorch\\aten\\src\\ATen/native/transformers/sdp_utils_cpp.h:495.)\n",
      "  out = F.scaled_dot_product_attention(q, k, v, dropout_p=dropout_p)\n",
      "D:\\Clouds\\clean_contrails\\segment-anything-2\\sam2\\modeling\\sam\\transformer.py:270: UserWarning: Flash attention kernel not used because: (Triggered internally at C:\\actions-runner\\_work\\pytorch\\pytorch\\builder\\windows\\pytorch\\aten\\src\\ATen\\native\\transformers\\cuda\\sdp_utils.cpp:720.)\n",
      "  out = F.scaled_dot_product_attention(q, k, v, dropout_p=dropout_p)\n",
      "D:\\Clouds\\clean_contrails\\segment-anything-2\\sam2\\modeling\\sam\\transformer.py:270: UserWarning: CuDNN attention kernel not used because: (Triggered internally at C:\\actions-runner\\_work\\pytorch\\pytorch\\builder\\windows\\pytorch\\aten\\src\\ATen\\native\\transformers\\cuda\\sdp_utils.cpp:722.)\n",
      "  out = F.scaled_dot_product_attention(q, k, v, dropout_p=dropout_p)\n",
      "D:\\Clouds\\clean_contrails\\segment-anything-2\\sam2\\modeling\\sam\\transformer.py:270: UserWarning: The CuDNN backend needs to be enabled by setting the enviornment variable`TORCH_CUDNN_SDPA_ENABLED=1` (Triggered internally at C:\\actions-runner\\_work\\pytorch\\pytorch\\builder\\windows\\pytorch\\aten\\src\\ATen\\native\\transformers\\cuda\\sdp_utils.cpp:497.)\n",
      "  out = F.scaled_dot_product_attention(q, k, v, dropout_p=dropout_p)\n",
      "d:\\Users\\Jacob\\anaconda3\\envs\\tmp_contrails\\lib\\site-packages\\torch\\nn\\modules\\module.py:1562: UserWarning: Flash Attention kernel failed due to: No available kernel. Aborting execution.\n",
      "Falling back to all available kernels for scaled_dot_product_attention (which may have a slower speed).\n",
      "  return forward_call(*args, **kwargs)\n",
      "propagate in video: 100%|██████████| 101/101 [00:09<00:00, 10.34it/s]\n"
     ]
    },
    {
     "name": "stdout",
     "output_type": "stream",
     "text": [
      "../data/gmn_extracted_flight_images/US0001/20230803/A1463A_AAL2864 took 16.260714769363403 seconds\n",
      "../data/gmn_extracted_flight_images/US0001/20230815/A22BF0_SWA279 already segmented\n"
     ]
    },
    {
     "name": "stderr",
     "output_type": "stream",
     "text": [
      "frame loading (JPEG): 100%|██████████| 101/101 [00:03<00:00, 30.88it/s]\n",
      "propagate in video: 100%|██████████| 101/101 [00:09<00:00, 10.88it/s]\n"
     ]
    },
    {
     "name": "stdout",
     "output_type": "stream",
     "text": [
      "../data/gmn_extracted_flight_images/US0001/20230815/A22BF0_SWA279 took 14.901540517807007 seconds\n",
      "../data/gmn_extracted_flight_images/US0001/20230815/A28E5B_FDX1678 already segmented\n"
     ]
    },
    {
     "name": "stderr",
     "output_type": "stream",
     "text": [
      "frame loading (JPEG): 100%|██████████| 101/101 [00:03<00:00, 31.08it/s]\n",
      "propagate in video: 100%|██████████| 101/101 [00:09<00:00, 10.56it/s]\n"
     ]
    },
    {
     "name": "stdout",
     "output_type": "stream",
     "text": [
      "../data/gmn_extracted_flight_images/US0001/20230815/A28E5B_FDX1678 took 15.06586766242981 seconds\n",
      "../data/gmn_extracted_flight_images/US0001/20230815/A4B41C_AAL2328 already segmented\n"
     ]
    },
    {
     "name": "stderr",
     "output_type": "stream",
     "text": [
      "frame loading (JPEG): 100%|██████████| 101/101 [00:03<00:00, 30.77it/s]\n",
      "propagate in video: 100%|██████████| 101/101 [00:12<00:00,  8.20it/s]\n"
     ]
    },
    {
     "name": "stdout",
     "output_type": "stream",
     "text": [
      "../data/gmn_extracted_flight_images/US0001/20230815/A4B41C_AAL2328 took 18.115764617919922 seconds\n",
      "../data/gmn_extracted_flight_images/US0001/20230815/A51B27_UPS853 already segmented\n"
     ]
    },
    {
     "name": "stderr",
     "output_type": "stream",
     "text": [
      "frame loading (JPEG): 100%|██████████| 101/101 [00:03<00:00, 30.67it/s]\n",
      "propagate in video: 100%|██████████| 101/101 [00:09<00:00, 11.05it/s]\n"
     ]
    },
    {
     "name": "stdout",
     "output_type": "stream",
     "text": [
      "../data/gmn_extracted_flight_images/US0001/20230815/A51B27_UPS853 took 15.061704397201538 seconds\n",
      "../data/gmn_extracted_flight_images/US0001/20230816/A0DADB_UPS855 already segmented\n"
     ]
    },
    {
     "name": "stderr",
     "output_type": "stream",
     "text": [
      "frame loading (JPEG): 100%|██████████| 101/101 [00:03<00:00, 31.45it/s]\n",
      "propagate in video: 100%|██████████| 101/101 [00:09<00:00, 10.95it/s]\n"
     ]
    },
    {
     "name": "stdout",
     "output_type": "stream",
     "text": [
      "../data/gmn_extracted_flight_images/US0001/20230816/A0DADB_UPS855 took 14.832109928131104 seconds\n",
      "../data/gmn_extracted_flight_images/US0001/20230820/ABB90D_SWA3676 already segmented\n"
     ]
    },
    {
     "name": "stderr",
     "output_type": "stream",
     "text": [
      "frame loading (JPEG): 100%|██████████| 101/101 [00:03<00:00, 30.29it/s]\n",
      "propagate in video: 100%|██████████| 101/101 [00:09<00:00, 10.71it/s]\n"
     ]
    },
    {
     "name": "stdout",
     "output_type": "stream",
     "text": [
      "../data/gmn_extracted_flight_images/US0001/20230820/ABB90D_SWA3676 took 15.208412170410156 seconds\n",
      "../data/gmn_extracted_flight_images/US0001/20230822/A8C397_FDX1417 already segmented\n"
     ]
    },
    {
     "name": "stderr",
     "output_type": "stream",
     "text": [
      "frame loading (JPEG): 100%|██████████| 101/101 [00:02<00:00, 36.77it/s]\n",
      "propagate in video: 100%|██████████| 101/101 [00:09<00:00, 10.60it/s]\n"
     ]
    },
    {
     "name": "stdout",
     "output_type": "stream",
     "text": [
      "../data/gmn_extracted_flight_images/US0001/20230822/A8C397_FDX1417 took 14.007265329360962 seconds\n",
      "../data/gmn_extracted_flight_images/US0001/20230823/A03765_AAL300 already segmented\n"
     ]
    },
    {
     "name": "stderr",
     "output_type": "stream",
     "text": [
      "frame loading (JPEG): 100%|██████████| 101/101 [00:05<00:00, 19.17it/s]\n",
      "propagate in video: 100%|██████████| 101/101 [00:09<00:00, 10.49it/s]"
     ]
    },
    {
     "name": "stdout",
     "output_type": "stream",
     "text": [
      "../data/gmn_extracted_flight_images/US0001/20230823/A03765_AAL300 took 17.71648359298706 seconds\n"
     ]
    },
    {
     "name": "stderr",
     "output_type": "stream",
     "text": [
      "\n"
     ]
    }
   ],
   "source": [
    "# Run the SAM2 segmentation\n",
    "for flight_dir in flight_dirs:\n",
    "    flight_id = os.path.basename(flight_dir)\n",
    "\n",
    "    with torch.no_grad():\n",
    "        try:\n",
    "            output_path = os.path.join(flight_dir, 'sam2_output')\n",
    "            if os.path.exists(output_path) and len(glob(os.path.join(output_path, '*.png'))) >= 100:\n",
    "                print(f\"{flight_dir} already segmented\")\n",
    "                # continue\n",
    "            elif glob(os.path.join(flight_dir, 'metadata', '*.json')) == []:\n",
    "                print(f\"{flight_dir} has no saved metadata, skipping\")\n",
    "                continue\n",
    "\n",
    "            start_time = time.time()\n",
    "            flight_id = os.path.basename(flight_dir)\n",
    "            segment_contrails(predictor, flight_dir, debug=True, binary_threshold=binary_threshold)\n",
    "            print(f\"{flight_dir} took {time.time() - start_time} seconds\")\n",
    "        except Exception as e:\n",
    "            print(f\"Flight {flight_dir} Error: {e}\")"
   ]
  }
 ],
 "metadata": {
  "kernelspec": {
   "display_name": "tmp_contrails",
   "language": "python",
   "name": "python3"
  },
  "language_info": {
   "codemirror_mode": {
    "name": "ipython",
    "version": 3
   },
   "file_extension": ".py",
   "mimetype": "text/x-python",
   "name": "python",
   "nbconvert_exporter": "python",
   "pygments_lexer": "ipython3",
   "version": "3.10.14"
  }
 },
 "nbformat": 4,
 "nbformat_minor": 2
}
