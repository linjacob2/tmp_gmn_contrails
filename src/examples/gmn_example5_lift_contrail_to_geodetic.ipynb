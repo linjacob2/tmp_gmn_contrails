{
 "cells": [
  {
   "cell_type": "markdown",
   "metadata": {},
   "source": [
    "Note: This notebook assumes that \"gmn_extract_candidate_contrails.ipynb\" and \"gmn_run_segmentation.ipynb\" has been run."
   ]
  },
  {
   "cell_type": "code",
   "execution_count": 1,
   "metadata": {},
   "outputs": [],
   "source": [
    "import sys\n",
    "sys.path.append(\"..\")\n",
    "\n",
    "from datetime import datetime, timezone\n",
    "from glob import glob\n",
    "import json\n",
    "import os\n",
    "import numpy as np\n",
    "import pandas as pd\n",
    "import cartopy.crs as ccrs\n",
    "import imageio\n",
    "\n",
    "from matplotlib import pyplot as plt\n",
    "from PIL import Image\n",
    "\n",
    "from pycontrails.datalib.goes import GOES as pycon_GOES, extract_goes_visualization\n",
    "from segmentation_utils import masks_to_geo"
   ]
  },
  {
   "cell_type": "code",
   "execution_count": 2,
   "metadata": {},
   "outputs": [],
   "source": [
    "stations  = ['US001N']\n",
    "dates = ['20230805']\n",
    "region = 'C'  # For satellite imagery\n",
    "\n",
    "# The intended use for this example is to only lift the segmentation masks to geo, if a contrail has been detected (see gmn_example4_classify_candidates.ipynb)\n",
    "# But for simplicity, here we are manually filtering for a flight that has a contrail\n",
    "flight_id_filter = ['3C6514_DLH413']"
   ]
  },
  {
   "cell_type": "code",
   "execution_count": 3,
   "metadata": {},
   "outputs": [],
   "source": [
    "# Prepare function for GOES visualization\n",
    "def fetch_goes(time, region):\n",
    "    date = datetime.fromtimestamp(time, timezone.utc)\n",
    "    year, month, day_of_month = date.year, date.month, date.day\n",
    "    hour, minute = date.hour, date.minute\n",
    "\n",
    "    image_time = np.datetime64(f\"{year:04d}-{month:02d}-{day_of_month:02d}T{hour:02d}:{minute:02d}\")\n",
    "\n",
    "    # Using pycontrails to load GOES data\n",
    "    pd_time = pd.to_datetime(image_time)\n",
    "    pycon_goes = pycon_GOES(region=region)\n",
    "    da = pycon_goes.get(pd_time)\n",
    "    rgb, transform, extent = extract_goes_visualization(da)\n",
    "\n",
    "    return rgb, transform, extent\n",
    "\n",
    "def save_images_for_video(frames, sam2_output, output_dir, mask_longitudes, mask_latitudes, bounding_box, image_corners):\n",
    "    prev_time = None\n",
    "    for idx, frame in enumerate(frames):\n",
    "        image = Image.open(frame['file_path']).convert('RGBA')\n",
    "        sam2_mask = Image.open(sam2_output[idx]).convert('RGBA')\n",
    "        combined_image = Image.blend(image, sam2_mask, 0.1)\n",
    "        combined_image.save(os.path.join(output_dir, f'cam_{idx:04d}.png'))\n",
    "\n",
    "        # Get satellite imagery at the same time\n",
    "        time = frame['time']\n",
    "        if region == \"F\":\n",
    "            rounded_time = time - time % 600  # Every 10 minutes\n",
    "        elif region == \"C\":\n",
    "            rounded_time = time - time % 300  # Every 5 minutes\n",
    "\n",
    "        if prev_time != rounded_time:\n",
    "            prev_time = rounded_time\n",
    "            rgb, transform, extent = fetch_goes(rounded_time, region)\n",
    "            \n",
    "        # Create figures\n",
    "        fig = plt.figure(figsize=(5.5, 5.5))\n",
    "        pc = ccrs.PlateCarree()\n",
    "        ax = fig.add_subplot(projection=pc, extent=bounding_box)\n",
    "        ax.coastlines()  # type: ignore[attr-defined]\n",
    "        ax.axis('off')\n",
    "        ax.imshow(rgb, extent=extent, transform=transform)\n",
    "        ax.scatter(mask_longitudes[idx], mask_latitudes[idx], edgecolors=(0, 0, 0), transform=pc, s=0.1, facecolor='none')\n",
    "        ax.scatter(mask_longitudes[idx], mask_latitudes[idx], color=(1, 0.5, 0.5), transform=pc, s=0.1, edgecolors='none')\n",
    "        fig.savefig(os.path.join(output_dir, f'sat_with_mask_{idx:04d}.png'), dpi=300, bbox_inches='tight')\n",
    "\n",
    "        plt.close('all')\n",
    "\n",
    "        fig = plt.figure(figsize=(5.5, 5.5))\n",
    "        pc = ccrs.PlateCarree()\n",
    "        ax = fig.add_subplot(projection=pc, extent=bounding_box)\n",
    "        ax.coastlines()  # type: ignore[attr-defined]\n",
    "        ax.axis('off')\n",
    "        ax.imshow(rgb, extent=extent, transform=transform)\n",
    "        fig.savefig(os.path.join(output_dir, f'sat_without_mask_{idx:04d}.png'), dpi=300, bbox_inches='tight')\n",
    "\n",
    "        plt.close('all')"
   ]
  },
  {
   "cell_type": "code",
   "execution_count": 4,
   "metadata": {},
   "outputs": [
    {
     "name": "stdout",
     "output_type": "stream",
     "text": [
      "Loading config file: d:\\Clouds\\tmp_gmn_contrails\\src\\data\\gmn_extracted_flight_images\\US001N\\20230805\\.config\n"
     ]
    }
   ],
   "source": [
    "# Run conversion from segmentation masks to latitudes and longitudes\n",
    "for station in stations:\n",
    "    for date in dates:\n",
    "        target_dir = f'../data/gmn_extracted_flight_images/{station}/{date}/'\n",
    "        masks_to_geo(target_dir, flight_id_filter)"
   ]
  },
  {
   "cell_type": "code",
   "execution_count": 5,
   "metadata": {},
   "outputs": [],
   "source": [
    "# Visualise on satellite imagery (output is saved as video files in \"/flight_dir/debug\")\n",
    "for station in stations:\n",
    "    for date in dates:\n",
    "        target_dir = f'../data/gmn_extracted_flight_images/{station}/{date}/'\n",
    "\n",
    "        meta_data_files = glob(os.path.join(target_dir, '*/metadata/*.json'))\n",
    "\n",
    "for meta_data_file in meta_data_files:\n",
    "    images = []\n",
    "\n",
    "    flight_dir = os.path.dirname(os.path.dirname(meta_data_file))\n",
    "    flight_id = os.path.basename(flight_dir)\n",
    "\n",
    "    if flight_id not in flight_id_filter:\n",
    "        continue\n",
    "    \n",
    "    output_dir = os.path.join(flight_dir, 'debug')\n",
    "    os.makedirs(output_dir, exist_ok=True)\n",
    "\n",
    "    with open(meta_data_file, 'r') as f:\n",
    "        data = json.load(f)\n",
    "\n",
    "    # Get the mask latitude and longitudes\n",
    "    if not os.path.exists(os.path.join(flight_dir, 'mask_geo', 'mask_geo.json')):\n",
    "        print(f\"Skipping {flight_dir} as mask_geo.json does not exist\")\n",
    "    else:\n",
    "        with open(os.path.join(flight_dir, 'mask_geo', 'mask_geo.json'), 'r') as f:\n",
    "            mask_geo = json.load(f)\n",
    "        sorted_keys = sorted(mask_geo['masks'].keys())\n",
    "        latitudes = [mask_geo['masks'][key]['lats'] for key in sorted_keys]\n",
    "        longitudes = [mask_geo['masks'][key]['lons'] for key in sorted_keys]\n",
    "        image_corners = mask_geo['image_corners']\n",
    "        \n",
    "    # Visualise frames after flight\n",
    "    sam2_output = sorted(glob(os.path.join(flight_dir, 'sam2_output/*.png')))\n",
    "    \n",
    "    padding = 0.25\n",
    "    bounding_box = [min(longitudes[0]) - padding, max(longitudes[0]) + padding, min(latitudes[0]) - padding, max(latitudes[0]) + padding]\n",
    "\n",
    "    save_images_for_video(data['frames_after_flight'], sam2_output, output_dir, longitudes, latitudes, bounding_box, image_corners)    "
   ]
  },
  {
   "cell_type": "code",
   "execution_count": 6,
   "metadata": {},
   "outputs": [
    {
     "name": "stderr",
     "output_type": "stream",
     "text": [
      "IMAGEIO FFMPEG_WRITER WARNING: input image is not divisible by macro_block_size=16, resizing from (3956, 1297) to (3968, 1312) to ensure video compatibility with most codecs and players. To prevent resizing, make your input image divisible by the macro_block_size or set the macro_block_size to 1 (risking incompatibility).\n"
     ]
    }
   ],
   "source": [
    "for meta_data_file in meta_data_files:\n",
    "    images = []\n",
    "\n",
    "    flight_dir = os.path.dirname(os.path.dirname(meta_data_file))\n",
    "    flight_id = os.path.basename(flight_dir)\n",
    "\n",
    "    if flight_id not in flight_id_filter:\n",
    "        continue\n",
    "\n",
    "    # Convert saved images to video\n",
    "    cam_images = sorted(glob(os.path.join(flight_dir, 'debug', 'cam_*.png')))\n",
    "    sat_with_mask_images = sorted(glob(os.path.join(flight_dir, 'debug', 'sat_with_mask_*.png')))\n",
    "    sat_without_mask_images = sorted(glob(os.path.join(flight_dir, 'debug', 'sat_without_mask_*.png')))\n",
    "\n",
    "    # Concatenate horizontally into single video\n",
    "    frames = []\n",
    "    for idx in range(len(cam_images)):\n",
    "        cam_image = Image.open(cam_images[idx])\n",
    "        sat_with_mask_image = Image.open(sat_with_mask_images[idx])\n",
    "        sat_without_mask_image = Image.open(sat_without_mask_images[idx])\n",
    "\n",
    "        combined_image = Image.new('RGB', (cam_image.width + sat_with_mask_image.width + sat_without_mask_image.width, max(cam_image.height, sat_with_mask_image.height, sat_without_mask_image.height)))\n",
    "        combined_image.paste(cam_image, (0, 0))\n",
    "        combined_image.paste(sat_with_mask_image, (cam_image.width, 0))\n",
    "        combined_image.paste(sat_without_mask_image, (cam_image.width + sat_with_mask_image.width, 0))\n",
    "        # combined_image.save(os.path.join(flight_dir, 'debug', f'combined_{idx:04d}.png'))\n",
    "        frames.append(combined_image)\n",
    "\n",
    "    imageio.mimwrite(os.path.join(flight_dir, 'debug', 'combined.mp4'), frames, fps=10, quality=8)\n",
    "\n",
    "    # Remove the saved images as well\n",
    "    for idx in range(len(cam_images)):\n",
    "        os.remove(cam_images[idx])\n",
    "        os.remove(sat_with_mask_images[idx])\n",
    "        os.remove(sat_without_mask_images[idx])"
   ]
  }
 ],
 "metadata": {
  "kernelspec": {
   "display_name": "tmp_contrails",
   "language": "python",
   "name": "python3"
  },
  "language_info": {
   "codemirror_mode": {
    "name": "ipython",
    "version": 3
   },
   "file_extension": ".py",
   "mimetype": "text/x-python",
   "name": "python",
   "nbconvert_exporter": "python",
   "pygments_lexer": "ipython3",
   "version": "3.10.14"
  }
 },
 "nbformat": 4,
 "nbformat_minor": 2
}
