{
 "cells": [
  {
   "cell_type": "code",
   "execution_count": 1,
   "metadata": {},
   "outputs": [],
   "source": [
    "import sys\n",
    "sys.path.append(\"..\")\n",
    "\n",
    "from glob import glob\n",
    "from save_flight_frames import save_flight_frames\n",
    "from utils.data_loading_utils import get_flight_files, get_era5_data\n",
    "\n",
    "import datetime\n",
    "import os\n",
    "import time"
   ]
  },
  {
   "cell_type": "code",
   "execution_count": 2,
   "metadata": {},
   "outputs": [],
   "source": [
    "# Settings\n",
    "flight_id_filter = []   # If looking at specific flight(s)\n",
    "\n",
    "dates = [(2023, 8, 5)]\n",
    "hour_range = 10\n",
    "num_frames_after_flight = 100\n",
    "\n",
    "indiv_stations  = ['US001N']\n",
    "all_stations = False"
   ]
  },
  {
   "cell_type": "code",
   "execution_count": 3,
   "metadata": {},
   "outputs": [
    {
     "name": "stdout",
     "output_type": "stream",
     "text": [
      "Loading config file: d:\\Clouds\\tmp_gmn_contrails\\src\\data\\gmn\\US001N\\US001N_20230805_003307_279816_detected\\.config\n"
     ]
    },
    {
     "name": "stderr",
     "output_type": "stream",
     "text": [
      "100%|██████████| 1843/1843 [00:09<00:00, 190.29it/s]\n",
      "100%|██████████| 1843/1843 [00:03<00:00, 512.06it/s]\n"
     ]
    },
    {
     "name": "stdout",
     "output_type": "stream",
     "text": [
      "US001N 2023-08-05 took 192.987051486969 seconds\n"
     ]
    }
   ],
   "source": [
    "for (year, month, day) in dates:\n",
    "    stations = []\n",
    "    if all_stations:\n",
    "        station_dirs = glob('../data/gmn/*/')\n",
    "        for station_dir in station_dirs:\n",
    "            station_name = os.path.basename(os.path.normpath(station_dir))\n",
    "            if len(glob(f'{station_dir}/*{year}{month:02d}{day:02d}*')) == 1:\n",
    "                stations.append(station_name)\n",
    "                print(station_name)\n",
    "            else:\n",
    "                print(f\"Skipping {station_name} for {year}-{month:02d}-{day:02d}\")\n",
    "    else:\n",
    "        for station in indiv_stations:\n",
    "            station_dir = f'../data/gmn/{station}'\n",
    "\n",
    "            if len(glob(f'{station_dir}/*{year}{month:02d}{day:02d}*')) == 1:\n",
    "                stations.append(station)\n",
    "            else:\n",
    "                print(f\"Skipping {station} for {year}-{month:02d}-{day:02d} (could not find)\")\n",
    "\n",
    "    for station in stations:\n",
    "        # try:\n",
    "        output_dir = f'../data/gmn_extracted_flight_images/{station}/{year}{month:02d}{day:02d}'\n",
    "        if os.path.exists(os.path.join(output_dir, 'done.txt')):\n",
    "            print(f\"Skipping {station} for {year}-{month:02d}-{day:02d} (already done)\")\n",
    "            continue\n",
    "        \n",
    "        video_dir = glob(f'../data/gmn/{station}/*{year}{month:02d}{day:02d}*/')[0]\n",
    "        start_hour = int(video_dir.split('_')[2][:2])\n",
    "\n",
    "        times = []\n",
    "        for i in range(hour_range):\n",
    "            start_time = datetime.datetime(year, month, day, start_hour, 0, 0)\n",
    "            start_time += datetime.timedelta(hours=i)\n",
    "            times.append((start_time.year, start_time.month, start_time.day, start_time.hour))\n",
    "        \n",
    "        # Get ERA5 data with some offset\n",
    "        hour_offset = 1\n",
    "        start_era5 = datetime.datetime(times[0][0], times[0][1], times[0][2], times[0][3], 0, 0)\n",
    "        start_era5 -= datetime.timedelta(hours=hour_offset)\n",
    "\n",
    "        end_era5 = datetime.datetime(times[-1][0], times[-1][1], times[-1][2], times[-1][3], 0, 0)\n",
    "        end_era5 += datetime.timedelta(hours=hour_offset)\n",
    "\n",
    "        start_year, start_month, start_day, start_hour = (start_era5.year, start_era5.month, start_era5.day, start_era5.hour)\n",
    "        end_year, end_month, end_day, end_hour = (end_era5.year, end_era5.month, end_era5.day, end_era5.hour)\n",
    "        file_path_met = f\"../data/era5/{year}{month:02d}/Met*\"\n",
    "\n",
    "        met = get_era5_data(start_year, start_month, start_day, start_hour, end_year, end_month, end_day, end_hour, file_path_met)\n",
    "\n",
    "        output_meta_file = f'../data/gmn_processed_flight_data/{year}{month:02d}{day:02d}_meta.pq'\n",
    "        output_wypts_file = f'../data/gmn_processed_flight_data/{year}{month:02d}{day:02d}_wypts.pq'\n",
    "        flight_data_files = get_flight_files(times, flight_data_base_path='../data/flight_data/')\n",
    "\n",
    "        start_time = time.time()\n",
    "        save_flight_frames(output_dir, 'gmn', video_dir, flight_data_files, output_meta_file, output_wypts_file, era5_met=met, num_frames_after_flight=num_frames_after_flight,\n",
    "            flight_id_filter=flight_id_filter, cache_flight_data=False)\n",
    "        \n",
    "        print(f\"{station} {year}-{month:02d}-{day:02d} took {time.time() - start_time} seconds\")\n",
    "        # except Exception as e:\n",
    "            # print(f\"Station {station} Error: {e}\")"
   ]
  }
 ],
 "metadata": {
  "kernelspec": {
   "display_name": "tmp_contrails",
   "language": "python",
   "name": "python3"
  },
  "language_info": {
   "codemirror_mode": {
    "name": "ipython",
    "version": 3
   },
   "file_extension": ".py",
   "mimetype": "text/x-python",
   "name": "python",
   "nbconvert_exporter": "python",
   "pygments_lexer": "ipython3",
   "version": "3.10.14"
  }
 },
 "nbformat": 4,
 "nbformat_minor": 2
}
